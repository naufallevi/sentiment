{
  "cells": [
    {
      "cell_type": "markdown",
      "metadata": {
        "id": "0QxVtE7CtvWt"
      },
      "source": [
        "# Proyek Akhir: Menyelesaikan Permasalahan Perusahaan Edutech"
      ]
    },
    {
      "cell_type": "markdown",
      "metadata": {
        "id": "exDfsVditvWw"
      },
      "source": [
        "- Nama:\n",
        "- Email:\n",
        "- Id Dicoding:"
      ]
    },
    {
      "cell_type": "markdown",
      "metadata": {
        "id": "-VsgSGpmtvWx"
      },
      "source": [
        "## Persiapan"
      ]
    },
    {
      "cell_type": "markdown",
      "metadata": {
        "id": "t6VlTzlrtvWx"
      },
      "source": [
        "### Menyiapkan library yang dibutuhkan"
      ]
    },
    {
      "cell_type": "code",
      "source": [],
      "metadata": {
        "id": "vyNW8a5PdCP3"
      },
      "execution_count": null,
      "outputs": []
    },
    {
      "cell_type": "markdown",
      "metadata": {
        "id": "8pdiOrPttvWy"
      },
      "source": [
        "### Menyiapkan data yang akan diguankan"
      ]
    },
    {
      "cell_type": "code",
      "source": [],
      "metadata": {
        "id": "R4r-0xlPdC_r"
      },
      "execution_count": null,
      "outputs": []
    },
    {
      "cell_type": "markdown",
      "metadata": {
        "id": "iXae3P_btvWy"
      },
      "source": [
        "## Data Understanding"
      ]
    },
    {
      "cell_type": "code",
      "source": [],
      "metadata": {
        "id": "t6eUljKpdDYl"
      },
      "execution_count": null,
      "outputs": []
    },
    {
      "cell_type": "markdown",
      "metadata": {
        "id": "zIRoLOWltvWz"
      },
      "source": [
        "## Data Preparation / Preprocessing"
      ]
    },
    {
      "cell_type": "code",
      "source": [],
      "metadata": {
        "id": "mIn9LgMOdEN_"
      },
      "execution_count": null,
      "outputs": []
    },
    {
      "cell_type": "markdown",
      "metadata": {
        "id": "-v8OaksdtvW0"
      },
      "source": [
        "## Modeling"
      ]
    },
    {
      "cell_type": "code",
      "source": [],
      "metadata": {
        "id": "4LYebyJsdEly"
      },
      "execution_count": null,
      "outputs": []
    },
    {
      "cell_type": "markdown",
      "metadata": {
        "id": "2OuGG4FftvW0"
      },
      "source": [
        "## Evaluation"
      ]
    },
    {
      "cell_type": "code",
      "source": [],
      "metadata": {
        "id": "u7tpuA4udFJB"
      },
      "execution_count": null,
      "outputs": []
    }
  ],
  "metadata": {
    "language_info": {
      "name": "python"
    },
    "orig_nbformat": 4,
    "colab": {
      "provenance": []
    },
    "kernelspec": {
      "name": "python3",
      "display_name": "Python 3"
    }
  },
  "nbformat": 4,
  "nbformat_minor": 0
}