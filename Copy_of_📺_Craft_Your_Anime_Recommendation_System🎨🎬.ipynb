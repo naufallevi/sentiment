{
  "metadata": {
    "kernelspec": {
      "name": "python3",
      "display_name": "Python 3",
      "language": "python"
    },
    "language_info": {
      "name": "python",
      "version": "3.10.12",
      "mimetype": "text/x-python",
      "codemirror_mode": {
        "name": "ipython",
        "version": 3
      },
      "pygments_lexer": "ipython3",
      "nbconvert_exporter": "python",
      "file_extension": ".py"
    },
    "kaggle": {
      "accelerator": "none",
      "dataSources": [
        {
          "sourceId": 1094,
          "sourceType": "datasetVersion",
          "datasetId": 571
        },
        {
          "sourceId": 2422513,
          "sourceType": "datasetVersion",
          "datasetId": 1225408
        },
        {
          "sourceId": 3050102,
          "sourceType": "datasetVersion",
          "datasetId": 1867679
        },
        {
          "sourceId": 6207733,
          "sourceType": "datasetVersion",
          "datasetId": 3384322
        }
      ],
      "dockerImageVersionId": 30918,
      "isInternetEnabled": true,
      "language": "python",
      "sourceType": "notebook",
      "isGpuEnabled": false
    },
    "colab": {
      "provenance": []
    }
  },
  "nbformat_minor": 0,
  "nbformat": 4,
  "cells": [
    {
      "source": [
        "# IMPORTANT: RUN THIS CELL IN ORDER TO IMPORT YOUR KAGGLE DATA SOURCES,\n",
        "# THEN FEEL FREE TO DELETE THIS CELL.\n",
        "# NOTE: THIS NOTEBOOK ENVIRONMENT DIFFERS FROM KAGGLE'S PYTHON\n",
        "# ENVIRONMENT SO THERE MAY BE MISSING LIBRARIES USED BY YOUR\n",
        "# NOTEBOOK.\n",
        "import kagglehub\n",
        "organizations_cooperunion_anime_recommendations_database_path = kagglehub.dataset_download('organizations/CooperUnion/anime-recommendations-database')\n",
        "hernan4444_anime_recommendation_database_2020_path = kagglehub.dataset_download('hernan4444/anime-recommendation-database-2020')\n",
        "vishalmane10_anime_dataset_2022_path = kagglehub.dataset_download('vishalmane10/anime-dataset-2022')\n",
        "dbdmobile_myanimelist_dataset_path = kagglehub.dataset_download('dbdmobile/myanimelist-dataset')\n",
        "\n",
        "print('Data source import complete.')\n"
      ],
      "metadata": {
        "id": "OJViDWxqP2hs"
      },
      "cell_type": "code",
      "outputs": [],
      "execution_count": null
    },
    {
      "cell_type": "markdown",
      "source": [
        "# <p style='font-family: Signika+Negative; background-color:#FF80AB; font-weight:bold; color:#FFFFFF; border:4px solid #FF4081; border-radius:12px; box-shadow: 0px 6px 18px rgba(0, 0, 0, 0.2); padding:8px; text-align:center'>📺 Anime Recommendation System  💫</p>\n"
      ],
      "metadata": {
        "id": "7HVq3eVyP2hs"
      }
    },
    {
      "cell_type": "markdown",
      "source": [
        "# <p style='font-family: Signika+Negative; background-color:#FF80AB; font-weight:bold; color:#FFFFFF; border:4px solid #FF4081; border-radius:12px; box-shadow: 0px 6px 18px rgba(0, 0, 0, 0.2); padding:8px; text-align:center;'>📖 Table of Contents 🌟</p>\n"
      ],
      "metadata": {
        "id": "cyIWCWuzP2hu"
      }
    },
    {
      "cell_type": "markdown",
      "source": [
        "<div style=\"\n",
        "    background-color:rgb(255, 221, 234); /* Warna lebih terang dari #FF80AB */\n",
        "    border-radius: 12px;\n",
        "    font-size: 16px;\n",
        "    color: #8E005D; /* Warna teks lebih kontras */\n",
        "    border: 4px solid #FF4081;\n",
        "    padding: 12px 15px;\n",
        "    box-shadow: 0px 6px 18px rgba(0, 0, 0, 0.2);\n",
        "    font-family: 'Signika Negative', sans-serif;\n",
        "    font-weight: bold;\n",
        "\">\n",
        "\n",
        "\n",
        "1. Import Library <br>\n",
        "2. Load Dataset  <br>\n",
        "3. Preprocessing <br>\n",
        "4. Content-Based Filtering  <br>\n",
        "5. Craft Your Recommendation <br>\n",
        "\n",
        "</div>"
      ],
      "metadata": {
        "id": "zAHSbp83P2hu"
      }
    },
    {
      "cell_type": "markdown",
      "source": [
        "# <p style='font-family: Signika+Negative; background-color:#FF80AB; font-weight:bold; color:#FFFFFF; border:4px solid #FF4081; border-radius:15px; box-shadow: 0px 6px 18px rgba(0, 0, 0, 0.2); padding:12px; text-align:center;'>➡️ Import Library 📚</p>\n"
      ],
      "metadata": {
        "id": "ygttXvKrP2hu"
      }
    },
    {
      "cell_type": "code",
      "source": [
        "import pandas as pd\n",
        "import numpy as np\n",
        "import copy\n",
        "from sklearn.preprocessing import LabelEncoder, StandardScaler\n",
        "from sklearn.metrics.pairwise import cosine_similarity\n",
        "from sklearn.feature_extraction.text import TfidfVectorizer"
      ],
      "metadata": {
        "trusted": true,
        "execution": {
          "iopub.status.busy": "2025-04-12T05:23:48.701423Z",
          "iopub.execute_input": "2025-04-12T05:23:48.702097Z",
          "iopub.status.idle": "2025-04-12T05:23:49.767573Z",
          "shell.execute_reply.started": "2025-04-12T05:23:48.702056Z",
          "shell.execute_reply": "2025-04-12T05:23:49.766557Z"
        },
        "id": "dM9vMe0cP2hu"
      },
      "outputs": [],
      "execution_count": null
    },
    {
      "cell_type": "markdown",
      "source": [
        "# <p style='font-family: Signika+Negative; background-color:#FF80AB; font-weight:bold; color:#FFFFFF; border:4px solid #FF4081; border-radius:15px; box-shadow: 0px 6px 18px rgba(0, 0, 0, 0.2); padding:12px; text-align:center;'>📚 Load Dataset 📈</p>\n"
      ],
      "metadata": {
        "id": "h2gjUqs7P2hv"
      }
    },
    {
      "cell_type": "code",
      "source": [
        "# LOAD DATASET\n",
        "\n",
        "anime_df = pd.read_csv(r'/kaggle/input/anime-recommendations-database/anime.csv')\n",
        "rating_df = pd.read_csv(r'/kaggle/input/anime-recommendations-database/rating.csv')\n",
        "\n",
        "print(f'Anime data shape : {anime_df.shape}')\n",
        "print(f'User data shape : {rating_df.shape}')"
      ],
      "metadata": {
        "trusted": true,
        "execution": {
          "iopub.status.busy": "2025-04-12T05:23:49.76891Z",
          "iopub.execute_input": "2025-04-12T05:23:49.770313Z",
          "iopub.status.idle": "2025-04-12T05:23:53.241986Z",
          "shell.execute_reply.started": "2025-04-12T05:23:49.770275Z",
          "shell.execute_reply": "2025-04-12T05:23:53.240907Z"
        },
        "id": "HetksbMdP2hv"
      },
      "outputs": [],
      "execution_count": null
    },
    {
      "cell_type": "code",
      "source": [
        "display(anime_df)\n",
        "display(rating_df)"
      ],
      "metadata": {
        "trusted": true,
        "execution": {
          "iopub.status.busy": "2025-04-12T05:23:53.247236Z",
          "iopub.execute_input": "2025-04-12T05:23:53.247613Z",
          "iopub.status.idle": "2025-04-12T05:23:53.288844Z",
          "shell.execute_reply.started": "2025-04-12T05:23:53.247583Z",
          "shell.execute_reply": "2025-04-12T05:23:53.287843Z"
        },
        "_kg_hide-input": true,
        "id": "tCADaDoFP2hv"
      },
      "outputs": [],
      "execution_count": null
    },
    {
      "cell_type": "markdown",
      "source": [
        "# <p style='font-family: Signika+Negative; background-color:#FF80AB; font-weight:bold; color:#FFFFFF; border:4px solid #FF4081; border-radius:15px; box-shadow: 0px 6px 18px rgba(0, 0, 0, 0.2); padding:12px; text-align:center;'>🛠️ Data Preprocessing: Time to Clean and Transform! 🔧</p>\n"
      ],
      "metadata": {
        "id": "FcnKP_jpP2hv"
      }
    },
    {
      "cell_type": "code",
      "source": [
        "# DELETE DATA IF GENRE AND TYPE ANIME IS NULL\n",
        "anime_df = anime_df.dropna(subset=['genre', 'type']).reset_index(drop=True)\n",
        "\n",
        "# FILL THE MISSING RATING VALUES WITH VALUE 0\n",
        "anime_df = anime_df.fillna(value= 0).reset_index(drop=True)\n",
        "\n",
        "anime_df.info()"
      ],
      "metadata": {
        "trusted": true,
        "execution": {
          "iopub.status.busy": "2025-04-12T05:23:53.289808Z",
          "iopub.execute_input": "2025-04-12T05:23:53.29018Z",
          "iopub.status.idle": "2025-04-12T05:23:53.327083Z",
          "shell.execute_reply.started": "2025-04-12T05:23:53.290146Z",
          "shell.execute_reply": "2025-04-12T05:23:53.326124Z"
        },
        "id": "epabOYJHP2hw"
      },
      "outputs": [],
      "execution_count": null
    },
    {
      "cell_type": "code",
      "source": [
        "# DROP ALL DUPLICATED DATA\n",
        "anime_df = anime_df.drop_duplicates(subset=['name']).reset_index(drop = True)\n",
        "rating_df = rating_df.drop_duplicates().reset_index(drop=True)\n",
        "\n",
        "\n",
        "anime_df.shape, rating_df.shape"
      ],
      "metadata": {
        "trusted": true,
        "execution": {
          "iopub.status.busy": "2025-04-12T05:23:53.328136Z",
          "iopub.execute_input": "2025-04-12T05:23:53.328494Z",
          "iopub.status.idle": "2025-04-12T05:23:55.414563Z",
          "shell.execute_reply.started": "2025-04-12T05:23:53.32846Z",
          "shell.execute_reply": "2025-04-12T05:23:55.413541Z"
        },
        "id": "sgjTOGvnP2hw"
      },
      "outputs": [],
      "execution_count": null
    },
    {
      "cell_type": "code",
      "source": [
        "# WE NEED TO CONVERT EPISODES COLUMN FROM OBJECT TO INT DATA TYPE\n",
        "\n",
        "\n",
        "# PREPROCESS EPISODES\n",
        "anime_df.loc[anime_df['episodes'] == 'Unknown', 'episodes'] = 0     # ---> 'Unknown' VALUE BECOME 0 IN EPISODES COLUMN\n",
        "\n",
        "# CHANGE EPISODES DATA TYPE TO INT\n",
        "anime_df['episodes'] = anime_df['episodes'].astype('int32')\n",
        "\n",
        "# AFTER CHANGED\n",
        "anime_df.info()"
      ],
      "metadata": {
        "trusted": true,
        "execution": {
          "iopub.status.busy": "2025-04-12T05:23:55.415636Z",
          "iopub.execute_input": "2025-04-12T05:23:55.415967Z",
          "iopub.status.idle": "2025-04-12T05:23:55.433839Z",
          "shell.execute_reply.started": "2025-04-12T05:23:55.415937Z",
          "shell.execute_reply": "2025-04-12T05:23:55.432818Z"
        },
        "id": "MLvrv01HP2hw"
      },
      "outputs": [],
      "execution_count": null
    },
    {
      "cell_type": "markdown",
      "source": [
        "<div style=\"\n",
        "    background-color:rgb(255, 221, 234); /* Warna lebih terang dari #FF80AB */\n",
        "    border-radius: 15px;\n",
        "    font-size: 16px;\n",
        "    color: #8E005D; /* Warna teks lebih kontras */\n",
        "    border: 4px solid #FF4081;\n",
        "    padding: 20px 25px;\n",
        "    box-shadow: 0px 6px 18px rgba(0, 0, 0, 0.2);\n",
        "    font-family: 'Signika Negative', sans-serif;\n",
        "\">\n",
        "    <h4 style=\"\n",
        "        font-size: 20px;\n",
        "        color: #C2185B; /* Warna judul lebih gelap agar kontras */\n",
        "        font-weight: bold;\n",
        "        margin-bottom: 15px;\n",
        "        text-align: center; /* Judul tetap di tengah */\n",
        "    \">🧬 Explanation for Code Cell below: 💡\n",
        "    </h4>\n",
        "\n",
        "a user who gives a rating of -1 means that the user has watched the anime but has not given a rating (implicit feedback). we will use the rating of -1 as additional information. therefore, I will do imputation by changing the rating of -1 with rating of that anime. <br>\n",
        "\n",
        "In the rating column, there is a rating with a value of -1. That means they have watched the anime but have not given a rating. In that case, we can consider it as implicit feedback. <br>\n",
        "\n",
        "<h4> <strong>In this case, there are several ways to handle the rating value -1 : </strong></h4>\n",
        "\n",
        "1. We can change the rating value -1 to its middle value, which is 5 (because the rating range is 0 - 10) <br>\n",
        "2. replace it with the average value of the user.  <br>\n",
        "3. replace it with the value of the anime rating. for example, if the anime rating is 8.2, then the user rating is changed to 8.2 (this method applies if we want to recommend anime based on the highest rating consistently). this method is useful when new users who have never watched an anime or have only watched it a little, then we can recommend the anime with the highest rating.  <br>\n",
        "4. If the rating -1 is less helpful but we don't want to lose information from the data, then we can replace it with a value of 0.  <br>\n",
        "5. If the rating -1 is not helpful and does not have a significant effect on the model or we have a lot of data that is not worth -1 and a few ratings that are worth -1, then we can delete data that has a rating of -1. <br>\n",
        "\n",
        "</div>"
      ],
      "metadata": {
        "id": "k-TF-_K9P2hw"
      }
    },
    {
      "cell_type": "code",
      "source": [
        "# CHECK DATAFRAME BEFORE IMPUTATION\n",
        "rating_df"
      ],
      "metadata": {
        "trusted": true,
        "execution": {
          "iopub.status.busy": "2025-04-12T05:23:55.434954Z",
          "iopub.execute_input": "2025-04-12T05:23:55.435347Z",
          "iopub.status.idle": "2025-04-12T05:23:55.455678Z",
          "shell.execute_reply.started": "2025-04-12T05:23:55.43529Z",
          "shell.execute_reply": "2025-04-12T05:23:55.454678Z"
        },
        "id": "NZw_9hw4P2hw"
      },
      "outputs": [],
      "execution_count": null
    },
    {
      "cell_type": "code",
      "source": [
        "# CHANGE RATING -1 TO THE AVERAGE OF THE ANIME RATED BY THE USER\n",
        "\n",
        "#for i, user in combined_df.iterrows():\n",
        "#\n",
        "#    if user['user_rating'] != -1:   # IF RATING NOT -1 , SKIP IT!\n",
        "#        continue\n",
        "#\n",
        "    # REPLACE RATING -1 WITH RATING OF THAT ANIME\n",
        "#    combined_df.loc[i, 'user_rating'] = combined_df.loc[i, 'anime_rating']\n",
        "\n",
        "\n",
        "\n",
        "# SAME AS ABOVE ,BUT IT OPTIMIZED CODE WITH 100X FASTER\n",
        "#combined_df.loc[combined_df['user_rating'] == -1, 'user_rating'] = combined_df['anime_rating']\n",
        "\n",
        "# OTHER OPTION : FILL RATING -1 WITH VALUE 0F 5\n",
        "#combined_df.loc[combined_df['user_rating'] == -1, 'user_rating'] = 5\n",
        "\n",
        "# OTHER OPTION : DROP ALL USER THAT IS RATING = -1\n",
        "rating_df = rating_df[rating_df['rating'] != -1]   # ---> # AFTER MANY ATTEMPT, WE HAVE DECIDED TO REMOVE THE -1 RATING.\n",
        "\n",
        "\n",
        "# CHECK DATA AFTER IMPUTATION\n",
        "rating_df"
      ],
      "metadata": {
        "trusted": true,
        "execution": {
          "iopub.status.busy": "2025-04-12T05:23:55.458877Z",
          "iopub.execute_input": "2025-04-12T05:23:55.459167Z",
          "iopub.status.idle": "2025-04-12T05:23:55.624088Z",
          "shell.execute_reply.started": "2025-04-12T05:23:55.459143Z",
          "shell.execute_reply": "2025-04-12T05:23:55.622934Z"
        },
        "id": "Ia72eNwyP2hw"
      },
      "outputs": [],
      "execution_count": null
    },
    {
      "cell_type": "markdown",
      "source": [
        "# <p style='font-family: Signika+Negative; background-color:#FF80AB; font-weight:bold; color:#FFFFFF; border:4px solid #FF4081; border-radius:15px; box-shadow: 0px 6px 18px rgba(0, 0, 0, 0.2); padding:12px; text-align:center; letter-spacing:2px;'>📺 Content-Based Filtering 🍿</p>\n"
      ],
      "metadata": {
        "id": "e3Uw5bJDP2hx"
      }
    },
    {
      "cell_type": "markdown",
      "source": [
        "![Content-Based Filtering.png](attachment:702c485a-c483-44a8-82bf-bd8afd81f448.png)"
      ],
      "metadata": {
        "_kg_hide-input": false,
        "id": "rYQaG-MVP2hx"
      }
    },
    {
      "cell_type": "markdown",
      "source": [
        "<div style=\"\n",
        "    background-color:rgb(255, 221, 234); /* Warna lebih terang dari #FF80AB */\n",
        "    border-radius: 15px;\n",
        "    font-size: 16px;\n",
        "    color: #8E005D; /* Warna teks lebih kontras */\n",
        "    border: 4px solid #FF4081;\n",
        "    padding: 20px 25px;\n",
        "    box-shadow: 0px 6px 18px rgba(0, 0, 0, 0.2);\n",
        "    font-family: 'Signika Negative', sans-serif;\n",
        "    font-weight: light;\n",
        "    text-align: left; /* Rata kiri */\n",
        "    letter-spacing: 1px;\n",
        "\">\n",
        "    <h4 style=\"\n",
        "        font-size: 20px;\n",
        "        color: #C2185B; /* Warna judul lebih gelap agar kontras */\n",
        "        font-weight: bold;\n",
        "        margin-bottom: 15px;\n",
        "        text-align: center; /* Judul tetap di tengah */\n",
        "    \">🧬 Explanation: 💡\n",
        "    </h4>\n",
        "\n",
        "Content-Based Filtering is a technique in recommendation systems that is used to recommend an item/product based on the products that the user likes. In this system, items that are similar to items that a user has previously liked or rated highly will be recommended to that user. <br> <br>\n",
        "\n",
        "- <strong>Advantages of Content-Based Filtering: </strong> <br>\n",
        "  1. <strong>Personalization:</strong> Each user receives recommendations that are highly tailored to their preferences. <br>\n",
        "  2. <strong>No Need for Other User Data:</strong> This system does not rely on the behavior of other users, so it can still be effective even if the number of users or other data is limited. <br>\n",
        "\n",
        "<br>\n",
        "- <strong>Disadvantages: </strong> <br>\n",
        "\n",
        "  1. <strong>Over-Specialization:</strong> The system might focus too much on items that are similar to what the user already knows, which can sometimes prevent it from introducing new and potentially interesting variations to the user.\n",
        "  2. <strong>New Item Problem:</strong> If a new item lacks sufficient data or features, it becomes difficult to recommend it to users.\n",
        "<br><br>\n",
        "\n",
        "- <strong>Example:</strong> <br>\n",
        "\n",
        "  1. <strong>Anime Recommendation:</strong> For instance, if a user likes Anime with the genres \"action\" and \"adventure,\" the system will analyze other Anime with similar genres and recommend those Anime. <br>\n",
        "  2. <strong>Book Recommendation:</strong> If a user frequently reads science fiction books, the system will recommend other books in the same genre.\n",
        "  3. There's many more....<br>\n",
        "\n",
        "<br><br>\n",
        "<strong>In this method,\n",
        "we will use cosine similarity to find similarities for each anime and recommend anime that have similarities to the ones the user has watched.</strong>\n",
        "</div>"
      ],
      "metadata": {
        "id": "CZCKQtvaP2hx"
      }
    },
    {
      "cell_type": "code",
      "source": [
        "# WE WILL USE 4 MAIN FEATURES IN anime_df (anime_id, type, rating, and members)\n",
        "\n",
        "def preprocessing(anime_df):\n",
        "\n",
        "    anime_df = anime_df.copy()  # ---> DEEP COPY\n",
        "\n",
        "    # FUNCTION TO REPLACE SPACES WITH UNDERSCORE FOR GENRE CONSISTING MORE THAN 1 WORD\n",
        "    def preprocess_genre(genre):\n",
        "        # SPLIT GENRE BY COMMAS AND SPACE\n",
        "        genre_list = genre.split(', ')\n",
        "\n",
        "        # Replace spaces with underscores only in genres that consist of more than one word.\n",
        "        processed_genres = [g.replace(\" \", \"_\") if len(g.split()) > 1 else g for g in genre_list]\n",
        "\n",
        "         # COMBINE THE REPROCESSED GENRES WITH COMMAS\n",
        "        return ', '.join(processed_genres)\n",
        "\n",
        "    # APPLY PREPROCESS FOR GENRE\n",
        "    anime_df['genre_preprocessed'] = anime_df['genre'].apply(preprocess_genre)\n",
        "\n",
        "\n",
        "    # -------------------------------------------------------------------------------------------------------\n",
        "\n",
        "    # SECOND, REPLACE GENRE CATEGORICAL FEATURE TO NUMERICAL USING TF-IDF\n",
        "\n",
        "    tfidf = TfidfVectorizer(encoding='utf-8', lowercase = True, stop_words= None, ngram_range= (1,1))    # USE TF-IDF TO TRANSFORM CATEGORICAL GENRE TO NUMERICAL GENRE\n",
        "    genre_encoded = tfidf.fit_transform(anime_df['genre_preprocessed'])\n",
        "\n",
        "\t# DISPLAY SOME FEATURE INFORMATION\n",
        "    display(tfidf.get_feature_names_out())\n",
        "\n",
        "    # CONVERT ENCODED GENRE TO DATAFRAME\n",
        "    features = tfidf.get_feature_names_out()\n",
        "    genre_encoded_df = pd.DataFrame(data = genre_encoded.toarray(), columns = features)\n",
        "\n",
        "\n",
        "    # THIRD, CHANGE TYPE CATEGORICAL USING ONE HOT ENCODING\n",
        "    type_encoded = pd.get_dummies(data = anime_df['type'])\n",
        "\n",
        "\n",
        "    # FOURTH, CONCATENATE THEM\n",
        "    df_encode = pd.concat((genre_encoded_df, type_encoded), axis=1)\n",
        "\n",
        "\n",
        "\n",
        "    # FIFTH, ADD ANIME RATING COLUMN TO THE DATAFRAME\n",
        "    df_encode['rating'] = anime_df['rating']\n",
        "\n",
        "    display(type(anime_df['members']))\n",
        "    display(anime_df['members'].shape)\n",
        "\n",
        "    # LAST ADD MEMBERS COLUMN TO THE DATAFRAME\n",
        "    norm = StandardScaler()\n",
        "    df_encode['members'] = norm.fit_transform(anime_df[['members']])   # DO NORMALIZATION FOR MEMBERS, CUZ THE VALUE IS HIGH AND LARGE\n",
        "\n",
        "\n",
        "\n",
        "    # DISPLAY ENCODED DATAFRAME\n",
        "    return df_encode"
      ],
      "metadata": {
        "trusted": true,
        "execution": {
          "iopub.status.busy": "2025-04-12T05:23:55.6258Z",
          "iopub.execute_input": "2025-04-12T05:23:55.626123Z",
          "iopub.status.idle": "2025-04-12T05:23:55.633745Z",
          "shell.execute_reply.started": "2025-04-12T05:23:55.62609Z",
          "shell.execute_reply": "2025-04-12T05:23:55.632704Z"
        },
        "id": "rzGWX5-nP2hx"
      },
      "outputs": [],
      "execution_count": null
    },
    {
      "cell_type": "code",
      "source": [
        "# FEATURE EXTRACTION\n",
        "df_encoded = preprocessing(anime_df)\n",
        "df_encoded"
      ],
      "metadata": {
        "trusted": true,
        "execution": {
          "iopub.status.busy": "2025-04-12T05:23:55.634816Z",
          "iopub.execute_input": "2025-04-12T05:23:55.6352Z",
          "iopub.status.idle": "2025-04-12T05:23:55.798242Z",
          "shell.execute_reply.started": "2025-04-12T05:23:55.635164Z",
          "shell.execute_reply": "2025-04-12T05:23:55.79699Z"
        },
        "id": "UzhCIlfzP2hx"
      },
      "outputs": [],
      "execution_count": null
    },
    {
      "cell_type": "code",
      "source": [
        "# CALCULATE COSINE SIMILARITY\n",
        "similarity = cosine_similarity(X = df_encoded, Y = df_encoded)\n",
        "\n",
        "# CREATE MAPPING FOR EACH ANIME_ID\n",
        "anime_idx = pd.Series(anime_df.index, index = anime_df['anime_id'])\n",
        "\n",
        "similarity.shape , len(anime_idx)"
      ],
      "metadata": {
        "trusted": true,
        "execution": {
          "iopub.status.busy": "2025-04-12T05:23:55.799369Z",
          "iopub.execute_input": "2025-04-12T05:23:55.799696Z",
          "iopub.status.idle": "2025-04-12T05:23:56.315066Z",
          "shell.execute_reply.started": "2025-04-12T05:23:55.799662Z",
          "shell.execute_reply": "2025-04-12T05:23:56.314115Z"
        },
        "id": "Lu_bGBdzP2hx"
      },
      "outputs": [],
      "execution_count": null
    },
    {
      "cell_type": "code",
      "source": [
        "# PREDICT UNWATCHED ANIME BASED ON get_recommendation() FUNCTION\n",
        "def predict_cb(user_id, anime_id):\n",
        "\n",
        "    # GET ALL WATCHED ANIME FOR THAT USER\n",
        "    watched_anime = rating_df[rating_df['user_id'] == user_id][['anime_id', 'rating']]\n",
        "    watched_anime = watched_anime.sort_values(by = 'rating', ascending = False)         # SORT RATING BY DESCENDING\n",
        "\n",
        "    # GET TOP 20 MOST LIKED ANIME\n",
        "    watched_anime = watched_anime[:20]     # ---> WE ONLY WANT TAKE TOP 20 ANIME MOST LIKED BASED ON HIGHEST RATING\n",
        "\n",
        "    # GET 1 TARGET ANIME INDEX\n",
        "    target_anime = anime_idx[anime_id]\n",
        "\n",
        "    # PREDICT ALL SCORE BETWEEN TARGET ANIME AND WATCHED ANIME\n",
        "    sim_scores = []\n",
        "    for watched in watched_anime['anime_id']:\n",
        "        # GET REAL INDEX OF WATCHED ANIME\n",
        "        watched_idx = anime_idx[watched]\n",
        "\n",
        "        # PREDICT SCORE BETWEEN TARGET ANIME (UNWATCHED ANIME) AND WATCHED ANIME\n",
        "        predicted_scores = similarity[target_anime][watched_idx]\n",
        "        sim_scores.append(predicted_scores)\n",
        "\n",
        "    return np.mean(sim_scores)\n"
      ],
      "metadata": {
        "trusted": true,
        "execution": {
          "iopub.status.busy": "2025-04-12T05:23:56.315865Z",
          "iopub.execute_input": "2025-04-12T05:23:56.316104Z",
          "iopub.status.idle": "2025-04-12T05:23:56.321396Z",
          "shell.execute_reply.started": "2025-04-12T05:23:56.316084Z",
          "shell.execute_reply": "2025-04-12T05:23:56.320548Z"
        },
        "id": "FYoQgfSOP2hx"
      },
      "outputs": [],
      "execution_count": null
    },
    {
      "cell_type": "code",
      "source": [
        "\n",
        "# FUNCTION TO ITERATE OVER UNWATCHED ANIME AND RETURN THE MOST HIGHEST SCORE\n",
        "def get_recommendation(user_id, top_n = 5, anime_df = anime_df):\n",
        "\n",
        "    # GET ALL ANIME\n",
        "    all_anime = set(anime_df['anime_id'])\n",
        "\n",
        "    # GET ANIME THAT HAVE BEEN WATCHED/RATED BY USER\n",
        "    watched_anime = set(rating_df[rating_df['user_id'] == user_id]['anime_id'])\n",
        "\n",
        "    # UNWATCHED ANIME\n",
        "    unwatched_anime = all_anime - watched_anime\n",
        "\n",
        "    recommendation = []\n",
        "\n",
        "    # PREDICT ALL UNWATCHED/UNRATED ANIME BASED ON SPESIFIC USER\n",
        "    for anime_id in unwatched_anime:\n",
        "        cb_score = predict_cb(user_id, anime_id)    # CALCULATE CONTENT-BASED\n",
        "\n",
        "        recommendation.append((anime_id, cb_score))\n",
        "\n",
        "    # SORT SCORES BY DESCENDING\n",
        "    recommendation = sorted(recommendation, key = lambda x : x[1], reverse = True)\n",
        "\n",
        "    return recommendation[: top_n]   # --->  RETURN LIST OF TUPLE"
      ],
      "metadata": {
        "trusted": true,
        "execution": {
          "iopub.status.busy": "2025-04-12T05:23:56.322413Z",
          "iopub.execute_input": "2025-04-12T05:23:56.322773Z",
          "iopub.status.idle": "2025-04-12T05:23:56.339815Z",
          "shell.execute_reply.started": "2025-04-12T05:23:56.322738Z",
          "shell.execute_reply": "2025-04-12T05:23:56.338857Z"
        },
        "id": "_rUMwthiP2hy"
      },
      "outputs": [],
      "execution_count": null
    },
    {
      "cell_type": "code",
      "source": [
        "# PREDICT MOST RECOMMENDATION ANIME FOR USER 1\n",
        "\n",
        "user_id = 1\n",
        "n = 10\n",
        "predictions = get_recommendation(user_id = user_id, top_n = n)\n",
        "\n",
        "print(f'Top {n} Most Rated Anime by User {user_id} : ')\n",
        "# SHOW MOST LIKED ANIME BY USER\n",
        "liked_anime = rating_df[rating_df['user_id'] == user_id].sort_values(by = 'rating', ascending = False)[:n]\n",
        "liked_anime = pd.merge(left = anime_df, right = liked_anime, how = 'right', on = 'anime_id')   # --- > JOIN ON ANIME DATA AND DISPLAY THEM\n",
        "\n",
        "display(liked_anime)\n",
        "\n",
        "\n",
        "# SEPARATE ANIME_ID AND PREDICTION SCORE INTO SEPARATE VARIABLES\n",
        "anime_id = [i[0] for i in predictions]\n",
        "predicted_rating = [i[1] for i in predictions]\n",
        "\n",
        "# CREATE DATAFRAME\n",
        "dict = {\n",
        "    'anime_id' : anime_id,\n",
        "    'predicted_rating' : predicted_rating\n",
        "}\n",
        "predictions_df = pd.DataFrame(dict)\n",
        "\n",
        "# MERGE DATA\n",
        "recommendation = pd.merge(left = anime_df, right = predictions_df, how = 'right', on = 'anime_id')\n",
        "\n",
        "print(f'\\nTop {n} Most Recommendation Anime to User {user_id}')\n",
        "recommendation"
      ],
      "metadata": {
        "trusted": true,
        "execution": {
          "iopub.status.busy": "2025-04-12T05:23:56.340766Z",
          "iopub.execute_input": "2025-04-12T05:23:56.341026Z",
          "iopub.status.idle": "2025-04-12T05:25:23.942787Z",
          "shell.execute_reply.started": "2025-04-12T05:23:56.341006Z",
          "shell.execute_reply": "2025-04-12T05:25:23.941783Z"
        },
        "id": "NAt1f8ZyP2hy"
      },
      "outputs": [],
      "execution_count": null
    },
    {
      "cell_type": "code",
      "source": [
        "# PREDICT MOST RECOMMENDATION ANIME FOR USER 1000\n",
        "\n",
        "user_id = 1000\n",
        "n = 10\n",
        "predictions = get_recommendation(user_id = user_id, top_n = n)\n",
        "\n",
        "# ------------------------------------------------------------------------\n",
        "\n",
        "print(f'Top {n} Most Rated Anime by User {user_id} : ')\n",
        "# SHOW MOST LIKED ANIME BY USER\n",
        "liked_anime = rating_df[rating_df['user_id'] == user_id].sort_values(by = 'rating', ascending = False)[:n]\n",
        "liked_anime = pd.merge(left = anime_df, right = liked_anime, how = 'right', on = 'anime_id')   # --- > JOIN ON ANIME DATA AND DISPLAY THEM\n",
        "\n",
        "display(liked_anime)\n",
        "\n",
        "\n",
        "# SEPARATE ANIME_ID AND PREDICTION SCORE INTO SEPARATE VARIABLES\n",
        "anime_id = [i[0] for i in predictions]\n",
        "predicted_rating = [i[1] for i in predictions]\n",
        "\n",
        "# CREATE DATAFRAME\n",
        "dict = {\n",
        "    'anime_id' : anime_id,\n",
        "    'predicted_rating' : predicted_rating\n",
        "}\n",
        "predictions_df = pd.DataFrame(dict)\n",
        "\n",
        "# MERGE DATA\n",
        "recommendation = pd.merge(left = anime_df, right = predictions_df, how = 'right', on = 'anime_id')\n",
        "\n",
        "print(f'\\nTop {n} Most Recommendation Anime to User {user_id}')\n",
        "recommendation"
      ],
      "metadata": {
        "trusted": true,
        "execution": {
          "iopub.status.busy": "2025-04-12T05:25:23.943886Z",
          "iopub.execute_input": "2025-04-12T05:25:23.944221Z",
          "iopub.status.idle": "2025-04-12T05:26:51.669745Z",
          "shell.execute_reply.started": "2025-04-12T05:25:23.944193Z",
          "shell.execute_reply": "2025-04-12T05:26:51.668936Z"
        },
        "id": "Ey0ZpszSP2hy"
      },
      "outputs": [],
      "execution_count": null
    },
    {
      "cell_type": "code",
      "source": [
        "# PREDICT MOST RECOMMENDATION ANIME FOR USER 23\n",
        "\n",
        "user_id = 23\n",
        "n = 10\n",
        "predictions = get_recommendation(user_id = user_id, top_n = n)\n",
        "\n",
        "# ------------------------------------------------------------------------\n",
        "\n",
        "print(f'Top {n} Most Rated Anime by User {user_id} : ')\n",
        "# SHOW MOST LIKED ANIME BY USER\n",
        "liked_anime = rating_df[rating_df['user_id'] == user_id].sort_values(by = 'rating', ascending = False)[:n]\n",
        "liked_anime = pd.merge(left = anime_df, right = liked_anime, how = 'right', on = 'anime_id')   # --- > JOIN ON ANIME DATA AND DISPLAY THEM\n",
        "\n",
        "display(liked_anime)\n",
        "\n",
        "\n",
        "# SEPARATE ANIME_ID AND PREDICTION SCORE INTO SEPARATE VARIABLES\n",
        "anime_id = [i[0] for i in predictions]\n",
        "predicted_rating = [i[1] for i in predictions]\n",
        "\n",
        "# CREATE DATAFRAME\n",
        "dict = {\n",
        "    'anime_id' : anime_id,\n",
        "    'predicted_rating' : predicted_rating\n",
        "}\n",
        "predictions_df = pd.DataFrame(dict)\n",
        "\n",
        "# MERGE DATA\n",
        "recommendation = pd.merge(left = anime_df, right = predictions_df, how = 'right', on = 'anime_id')\n",
        "\n",
        "print(f'\\nTop {n} Most Recommendation Anime to User {user_id}')\n",
        "recommendation"
      ],
      "metadata": {
        "trusted": true,
        "execution": {
          "iopub.status.busy": "2025-04-12T05:26:51.670565Z",
          "iopub.execute_input": "2025-04-12T05:26:51.670828Z",
          "iopub.status.idle": "2025-04-12T05:28:19.366748Z",
          "shell.execute_reply.started": "2025-04-12T05:26:51.670806Z",
          "shell.execute_reply": "2025-04-12T05:28:19.365719Z"
        },
        "id": "5o01LJkJP2hy"
      },
      "outputs": [],
      "execution_count": null
    },
    {
      "cell_type": "markdown",
      "source": [
        "# <p style='font-family: Signika+Negative; background-color:#FF80AB; font-weight:bold; color:#FFFFFF; border:4px solid #FF4081; border-radius:15px; box-shadow: 0px 6px 18px rgba(0, 0, 0, 0.2); padding:12px; text-align:center;'>🎧 Craft Your Recommendation 🎵</p>"
      ],
      "metadata": {
        "id": "24LRSlocP2hy"
      }
    },
    {
      "cell_type": "markdown",
      "source": [
        "<div style=\"\n",
        "    background-color:rgb(255, 229, 236); /* Warna lebih terang dari #FF80AB */\n",
        "    border-radius: 15px;\n",
        "    font-size: 16px;\n",
        "    color: #8E005D; /* Warna teks lebih kontras */\n",
        "    border: 4px solid #FF4081;\n",
        "    padding: 20px 25px;\n",
        "    box-shadow: 0px 6px 18px rgba(0, 0, 0, 0.2);\n",
        "    font-family: 'Signika Negative', sans-serif;\n",
        "    font-weight: bold;\n",
        "    text-align: center;\n",
        "\">\n",
        "    \n",
        "<h4 style=\"\n",
        "        font-size: 20px;\n",
        "        color: #C2185B; /* Warna judul lebih gelap agar kontras */\n",
        "        font-weight: bold;\n",
        "        margin-bottom: 10px;\">🧬 Explanation: 💡</h4>\n",
        "    \n",
        "The code Cell below create and display Anime based on your favorite Genre. You can freely choose your favorite genre.\n",
        "</div>"
      ],
      "metadata": {
        "id": "AdtWGx8hP2hy"
      }
    },
    {
      "cell_type": "code",
      "source": [
        "\n",
        "# ONLY TAKE ANIME GENRE SIMILAR WITH selected_genre\n",
        "def filter_anime_by_genre(selected_genre, df):\n",
        "\n",
        "    # RETURN DATA WITH AT-LEAST 1 SELECTED GENRE\n",
        "    return df[df['genre'].apply(lambda x : any(genre in x for genre in selected_genre))].reset_index(drop = True)\n"
      ],
      "metadata": {
        "trusted": true,
        "execution": {
          "iopub.status.busy": "2025-04-12T05:28:19.367795Z",
          "iopub.execute_input": "2025-04-12T05:28:19.36804Z",
          "iopub.status.idle": "2025-04-12T05:28:19.372766Z",
          "shell.execute_reply.started": "2025-04-12T05:28:19.368019Z",
          "shell.execute_reply": "2025-04-12T05:28:19.371638Z"
        },
        "_kg_hide-input": false,
        "id": "HWiXPYgzP2hy"
      },
      "outputs": [],
      "execution_count": null
    },
    {
      "cell_type": "code",
      "source": [
        "\n",
        "# FOR PREPROCESS FILTERED DATA\n",
        "def special_preprocessing(df):\n",
        "\n",
        "    df = df.copy()   # ---> DEEP COPY\n",
        "\n",
        "    # FUNCTION TO REPLACE SPACES WITH UNDERSCORE FOR GENRE CONSISTING MORE THAN 1 WORD\n",
        "    def preprocess_genre(genre):\n",
        "        # SPLIT GENRE BY COMMAS AND SPACE\n",
        "        genre_list = genre.split(', ')\n",
        "\n",
        "        # Replace spaces with underscores only in genres that consist of more than one word.\n",
        "        processed_genres = [g.replace(\" \", \"_\") if len(g.split()) > 1 else g for g in genre_list]\n",
        "\n",
        "         # COMBINE THE REPROCESSED GENRES WITH COMMAS\n",
        "        return ', '.join(processed_genres)\n",
        "\n",
        "    # APPLY PREPROCESS FOR GENRE\n",
        "    df['genre_preprocessed'] = df['genre'].apply(preprocess_genre)\n",
        "\n",
        "\n",
        "    # -------------------------------------------------------------------------------------------------------\n",
        "\n",
        "    # SECOND, REPLACE GENRE CATEGORICAL FEATURE TO NUMERICAL USING TF-IDF\n",
        "\n",
        "    tfidf = TfidfVectorizer(encoding='utf-8', lowercase = True, stop_words= None, ngram_range= (1,1))    # USE TF-IDF TO TRANSFORM CATEGORICAL GENRE TO NUMERICAL GENRE\n",
        "    genre_encoded = tfidf.fit_transform(df['genre_preprocessed'])\n",
        "\n",
        "\n",
        "    # CONVERT ENCODED GENRE TO DATAFRAME\n",
        "    features = tfidf.get_feature_names_out()\n",
        "    df_encode = pd.DataFrame(data = genre_encoded.toarray(), columns = features)\n",
        "\n",
        "\n",
        "    # LAST ADD MEMBERS COLUMN TO THE DATAFRAME\n",
        "    #norm = StandardScaler()\n",
        "    #df_encode['members'] = norm.fit_transform(df[['members']])   # DO NORMALIZATION FOR MEMBERS, CUZ THE VALUE IS HIGH AND LARGE\n",
        "\n",
        "    df_encode['members'] = df['members']\n",
        "\n",
        "    # DISPLAY ENCODED DATAFRAME\n",
        "    return df_encode"
      ],
      "metadata": {
        "trusted": true,
        "execution": {
          "iopub.status.busy": "2025-04-12T05:28:19.373892Z",
          "iopub.execute_input": "2025-04-12T05:28:19.374208Z",
          "iopub.status.idle": "2025-04-12T05:28:19.393522Z",
          "shell.execute_reply.started": "2025-04-12T05:28:19.374182Z",
          "shell.execute_reply": "2025-04-12T05:28:19.392395Z"
        },
        "_kg_hide-input": false,
        "id": "8hYxi-WYP2hy"
      },
      "outputs": [],
      "execution_count": null
    },
    {
      "cell_type": "code",
      "source": [
        "# FUNCTION TO GET A ANIME RECOMMENDATION BASED ON SELECTED GENRES\n",
        "def recommendation_by_genre(selected_genre, type, anime_df):\n",
        "\n",
        "    if type == None:\n",
        "        raise ValueError(\"Type Can't be Null!\")\n",
        "\n",
        "    # SELECT ANIME WITH GENRE SAME AS selected_genre (AT LEAST 1 GENRE ARE SAME)\n",
        "    filtered_df = filter_anime_by_genre(selected_genre, anime_df)\n",
        "\n",
        "    # DO PREPROCESS FOR FILTERED ANIME\n",
        "    df_encoded = special_preprocessing(filtered_df)\n",
        "\n",
        "    # CALCULATE COSINE TO GET SIMILARITY BETWEEN EACH ANIME\n",
        "    similarity_matrix = cosine_similarity(df_encoded)\n",
        "\n",
        "    # CONVERT SELECTED GENRE TO SET\n",
        "    relevant_genres = set(selected_genre)\n",
        "\n",
        "    # -----------------------------------------------------------------------------------------------------------\n",
        "\n",
        "    # FUNCTION TO COUNT THE NUMBER OF IRRELEVANT GENRE FOR EACH ANIME\n",
        "    def count_irrelevant_genres(genre_string):\n",
        "        anime_genres = set(genre_string.split(', '))\n",
        "        return len(anime_genres - relevant_genres)  # COUNT THE NUMBER OF GENRES NOT IN RELEVANT GENRE\n",
        "\n",
        "    # FUNCTION TO COUNT RELEVANT GENRES ON EACH ANIME\n",
        "    def count_relevant_genres(genre_string):\n",
        "        anime_genres = set(genre_string.split(', '))   # ---> GET ALL GENRE\n",
        "        return len(anime_genres & relevant_genres)     # DO AND LOGIC\n",
        "\n",
        "    # ------------------------------------------------------------------------------------------------------------\n",
        "\n",
        "\n",
        "    filtered_df[\"irrelevant_genre_count\"] = filtered_df[\"genre\"].apply(count_irrelevant_genres)\n",
        "    filtered_df['relevant_genre'] = filtered_df['genre'].apply(count_relevant_genres)\n",
        "\n",
        "    # COMPUTE AVERAGE OF SIMILARITY EACH ANIME TO OTHER ANIME WITH RELEVANT GENRE\n",
        "    avg_similarity = similarity_matrix.mean(axis=0)\n",
        "\n",
        "    # DIVIDE THE AVG SIMILARITY VALUE BY THE NUMBER OF GENRES IS IRRELEVANT\n",
        "    avg_similarity /= np.where(filtered_df[\"irrelevant_genre_count\"] > 0, filtered_df[\"irrelevant_genre_count\"], 1)\n",
        "\n",
        "    filtered_df['avg_similarity'] = avg_similarity   # ---> STORE avg_similarity TO DATAFRAME\n",
        "\n",
        "    # GET ANIME BASED ON ACTUAL GENRE\n",
        "    relevant_df = filtered_df.sort_values(by = ['relevant_genre', 'avg_similarity', 'members'], ascending = [False, False, False])\n",
        "\n",
        "    # GET MOST POPULAR ANIME BASED ON RELEVANT GENRE\n",
        "    popular_df = filtered_df.sort_values(by = ['relevant_genre', 'members', 'avg_similarity'], ascending = [False, False, False])\n",
        "\n",
        "    # -----------------------------------------------------------------------------------------------------------------------------\n",
        "\n",
        "\n",
        "    type = type.lower()    # CONVERT TO LOWERCASE\n",
        "\n",
        "    # IF THEY SELECT ALL TYPE, THEN JUST RETURN IT!\n",
        "    if type == 'all':\n",
        "        return (popular_df, relevant_df)\n",
        "\n",
        "    # FILTER A CHOSEN TYPE OF ANIME\n",
        "    relevant_df = relevant_df[relevant_df['type'].str.lower() == type]\n",
        "    popular_df = popular_df[popular_df['type'].str.lower() == type]\n",
        "\n",
        "    # IF TYPE IS WRONG SPELLED\n",
        "    if relevant_df.empty :\n",
        "        raise ValueError(f\"There's no Type named {type}! Check Your spelled!\")    # ----> RETURN AN ERROR\n",
        "\n",
        "    return (popular_df, relevant_df)  # ----> RETURN 2 DATAFRAMES IN TUPLE FORM"
      ],
      "metadata": {
        "trusted": true,
        "execution": {
          "iopub.status.busy": "2025-04-12T05:28:19.394665Z",
          "iopub.execute_input": "2025-04-12T05:28:19.395003Z",
          "iopub.status.idle": "2025-04-12T05:28:19.416875Z",
          "shell.execute_reply.started": "2025-04-12T05:28:19.394976Z",
          "shell.execute_reply": "2025-04-12T05:28:19.415724Z"
        },
        "_kg_hide-input": false,
        "id": "uhcxL100P2hy"
      },
      "outputs": [],
      "execution_count": null
    },
    {
      "cell_type": "code",
      "source": [
        "def display_recommendation(selected_genre, type='all', top_n = 5):\n",
        "\n",
        "    tuple = recommendation_by_genre(selected_genre, type, anime_df)\n",
        "\n",
        "    # FUNCTION TO MAKE BACKGROUND COLOR\n",
        "    def highlight_cells(val):\n",
        "        color = 'lightblue'  # BACKGROUND COLOR\n",
        "        return f'background-color: {color}'\n",
        "\n",
        "    # DISPLAY POPULAR ANIME BASED ON YOUR FAVORITE GENRE\n",
        "    popular_anime = tuple[0]\n",
        "    popular_anime = popular_anime[['anime_id', 'name', 'genre', 'type', 'episodes', 'rating', 'members']].head(top_n)\n",
        "\n",
        "    print(f'\\nPopular Anime Based on Your Favorite genre :\\nYour favorite genre : {selected_genre}\\n')\n",
        "\n",
        "    # APPLY HIGHLIGHT FOR name AND genre COLUMNS\n",
        "    popular_anime = popular_anime.style.map(highlight_cells, subset=['name', 'genre'])\n",
        "\n",
        "    # HIGHLIGHT AND CREATE BORDER\n",
        "    popular_anime.set_table_styles(\n",
        "        [{'selector': 'th.col1', 'props': [('background-color', 'lightgray'), ('border', '1px solid black')]},  # Header 'name'\n",
        "         {'selector': 'th.col2', 'props': [('background-color', 'lightgray'), ('border', '1px solid black')]},  # Header 'genre'\n",
        "         {'selector': 'td', 'props': [('border', '1px solid black')]},  # OTHER CELL\n",
        "         ],\n",
        "        axis=1  # ---> DECLARE TO MODIFY THE COLUMN\n",
        "    )\n",
        "\n",
        "    display(popular_anime)   # ---> DISPLAY DATAFRAME\n",
        "\n",
        "    # ---------------------------------------------------------------------------\n",
        "\n",
        "\n",
        "    # DISPLAY ANIME BASED ON YOUR SPECIFIC GENRE\n",
        "    relevant_anime = tuple[1]\n",
        "    relevant_anime = relevant_anime[['anime_id', 'name', 'genre', 'type', 'episodes', 'rating', 'members']].head(top_n)\n",
        "\n",
        "    print(f'\\n\\nAnime Recommendation Based on Your favorite genre :\\nYour favorite genre : {selected_genre}')\n",
        "\n",
        "    # APPLY HIGHLIGHT FOR name AND genre COLUMNS\n",
        "    relevant_anime = relevant_anime.style.map(highlight_cells, subset = ['name', 'genre'])\n",
        "\n",
        "    # HIGHLIGHT AND CREATE BORDER\n",
        "    relevant_anime.set_table_styles(\n",
        "        [{'selector': 'th.col1', 'props': [('background-color', 'lightgray'), ('border', '1px solid black')]},  # Header 'name'\n",
        "         {'selector': 'th.col2', 'props': [('background-color', 'lightgray'), ('border', '1px solid black')]},  # Header 'genre'\n",
        "         {'selector': 'td', 'props': [('border', '1px solid black')]},  # OTHER CELL\n",
        "         ],\n",
        "        axis=1  # ---> DECLARE TO MODIFY THE COLUMN\n",
        "    )\n",
        "\n",
        "    display(relevant_anime)\n"
      ],
      "metadata": {
        "trusted": true,
        "execution": {
          "iopub.status.busy": "2025-04-12T05:28:19.417891Z",
          "iopub.execute_input": "2025-04-12T05:28:19.418165Z",
          "iopub.status.idle": "2025-04-12T05:28:19.437405Z",
          "shell.execute_reply.started": "2025-04-12T05:28:19.418143Z",
          "shell.execute_reply": "2025-04-12T05:28:19.436419Z"
        },
        "id": "zDr7-j44P2hz"
      },
      "outputs": [],
      "execution_count": null
    },
    {
      "cell_type": "markdown",
      "source": [
        "## Craft Here  "
      ],
      "metadata": {
        "id": "JTC9Z06zP2hz"
      }
    },
    {
      "cell_type": "code",
      "source": [
        "# U CAN CRAFT YOUR RECOMMENDATION BASED ON YOUR FAVORITE GENRE AND TYPE ANIME\n",
        "\n",
        "top_n = 10      # ---> GET TOP 10 MOST RECOMMENDATION ANIME\n",
        "type_anime = 'all'    # ---> SELECT YOUR ANIME TYPE (IT CAN BE TV, MOVIE, OVA, ONA, SPECIAL, MUSIC, OR ALL). IF ALL THEN U CHOOSE ALL TYPE !\n",
        "\n",
        "selected_genre = ['Action', 'Adventure', 'Shounen']         # ---> SELECT YOUR FAVORITE GENRE\n",
        "\n",
        "display_recommendation(selected_genre, type_anime, top_n )"
      ],
      "metadata": {
        "trusted": true,
        "execution": {
          "iopub.status.busy": "2025-04-12T05:28:19.43877Z",
          "iopub.execute_input": "2025-04-12T05:28:19.439151Z",
          "iopub.status.idle": "2025-04-12T05:28:19.808562Z",
          "shell.execute_reply.started": "2025-04-12T05:28:19.439107Z",
          "shell.execute_reply": "2025-04-12T05:28:19.80766Z"
        },
        "id": "zSKw-9QMP2hz"
      },
      "outputs": [],
      "execution_count": null
    },
    {
      "cell_type": "code",
      "source": [
        "# U CAN CRAFT YOUR RECOMMENDATION BASED ON YOUR FAVORITE GENRE AND TYPE ANIME\n",
        "\n",
        "top_n = 10      # ---> GET TOP 10 MOST RECOMMENDATION ANIME\n",
        "type_anime = 'special'    # ---> SELECT YOUR ANIME TYPE (IT CAN BE TV, MOVIE, OVA, ONA, SPECIAL, MUSIC, OR ALL). IF ALL THEN U CHOOSE ALL TYPE !\n",
        "\n",
        "selected_genre = ['Action', 'Shounen']         # ---> SELECT YOUR FAVORITE GENRE\n",
        "\n",
        "display_recommendation(selected_genre, type_anime, top_n )"
      ],
      "metadata": {
        "trusted": true,
        "execution": {
          "iopub.status.busy": "2025-04-12T05:29:00.253378Z",
          "iopub.execute_input": "2025-04-12T05:29:00.253784Z",
          "iopub.status.idle": "2025-04-12T05:29:00.430377Z",
          "shell.execute_reply.started": "2025-04-12T05:29:00.253755Z",
          "shell.execute_reply": "2025-04-12T05:29:00.429538Z"
        },
        "id": "iOAENsJCP2hz"
      },
      "outputs": [],
      "execution_count": null
    },
    {
      "cell_type": "code",
      "source": [
        "# U CAN CREATE YOUR RECOMMENDATION BASED ON YOUR FAVORITE GENRE AND TYPE ANIME\n",
        "\n",
        "top_n = 10      # ---> GET TOP 10 MOST RECOMMENDATION ANIME\n",
        "type_anime = 'tv'     # ---> SELECT YOUR ANIME TYPE (IT CAN BE TV, MOVIE, OVA, ONA, SPECIAL, MUSIC, OR ALL). IF ALL THEN U CHOOSE ALL TYPE !\n",
        "\n",
        "selected_genre = ['Action', 'Adventure', 'Shounen', 'Super Power']         # ---> SELECT YOUR FAVORITE GENRE.\n",
        "\n",
        "\n",
        "display_recommendation(selected_genre, type_anime, top_n )   # ---> CALL A FUNCTION"
      ],
      "metadata": {
        "trusted": true,
        "execution": {
          "iopub.status.busy": "2025-04-12T05:28:20.065733Z",
          "iopub.execute_input": "2025-04-12T05:28:20.06599Z",
          "iopub.status.idle": "2025-04-12T05:28:20.337039Z",
          "shell.execute_reply.started": "2025-04-12T05:28:20.065969Z",
          "shell.execute_reply": "2025-04-12T05:28:20.336111Z"
        },
        "id": "7-KPk9M4P2hz"
      },
      "outputs": [],
      "execution_count": null
    },
    {
      "cell_type": "code",
      "source": [
        "# U CAN CREATE YOUR RECOMMENDATION BASED ON YOUR FAVORITE GENRE AND TYPE ANIME\n",
        "\n",
        "top_n = 10      # ---> GET TOP 10 MOST RECOMMENDATION ANIME\n",
        "type_anime = 'tv'     # ---> SELECT YOUR ANIME TYPE (IT CAN BE TV, MOVIE, OVA, ONA, SPECIAL, MUSIC, OR ALL). IF ALL THEN U CHOOSE ALL TYPE !\n",
        "\n",
        "selected_genre = ['Mystery', 'Psychological']         # ---> SELECT YOUR FAVORITE GENRE.\n",
        "\n",
        "\n",
        "display_recommendation(selected_genre, type_anime, top_n )   # ---> CALL A FUNCTION"
      ],
      "metadata": {
        "trusted": true,
        "execution": {
          "iopub.status.busy": "2025-04-12T05:28:20.337913Z",
          "iopub.execute_input": "2025-04-12T05:28:20.338472Z",
          "iopub.status.idle": "2025-04-12T05:28:20.391629Z",
          "shell.execute_reply.started": "2025-04-12T05:28:20.338441Z",
          "shell.execute_reply": "2025-04-12T05:28:20.390741Z"
        },
        "id": "ayaJOYgoP2hz"
      },
      "outputs": [],
      "execution_count": null
    },
    {
      "cell_type": "code",
      "source": [
        "# U CAN CREATE YOUR RECOMMENDATION BASED ON YOUR FAVORITE GENRE AND TYPE ANIME\n",
        "\n",
        "top_n = 10      # ---> GET TOP 10 MOST RECOMMENDATION ANIME\n",
        "type_anime = 'tv'     # ---> SELECT YOUR ANIME TYPE (IT CAN BE TV, MOVIE, OVA, ONA, SPECIAL, MUSIC, OR ALL). IF ALL THEN U CHOOSE ALL TYPE !\n",
        "\n",
        "selected_genre = ['Adventure', 'Fantasy', 'Kids']         # ---> SELECT YOUR FAVORITE GENRE.\n",
        "\n",
        "\n",
        "display_recommendation(selected_genre, type_anime, top_n )    # ---> CALL A FUNCTION"
      ],
      "metadata": {
        "trusted": true,
        "execution": {
          "iopub.status.busy": "2025-04-12T05:28:20.392807Z",
          "iopub.execute_input": "2025-04-12T05:28:20.393187Z",
          "iopub.status.idle": "2025-04-12T05:28:20.631739Z",
          "shell.execute_reply.started": "2025-04-12T05:28:20.393148Z",
          "shell.execute_reply": "2025-04-12T05:28:20.630696Z"
        },
        "id": "8RrEVIF1P2hz"
      },
      "outputs": [],
      "execution_count": null
    },
    {
      "cell_type": "markdown",
      "source": [
        "<div style=\"\n",
        "    background-color:rgb(255, 229, 236); /* Warna lebih terang dari #FF80AB */\n",
        "    border-radius: 15px;\n",
        "    font-size: 16px;\n",
        "    color: #8E005D; /* Warna teks lebih kontras */\n",
        "    border: 4px solid #FF4081;\n",
        "    padding: 20px 25px;\n",
        "    box-shadow: 0px 6px 18px rgba(0, 0, 0, 0.2);\n",
        "    font-family: 'Signika Negative', sans-serif;\n",
        "    font-weight: bold;\n",
        "    text-align: center;\n",
        "\">\n",
        "    <h4 style=\"\n",
        "        font-size: 20px;\n",
        "        color: #C2185B; /* Warna judul lebih gelap agar kontras */\n",
        "        font-weight: bold;\n",
        "        margin-bottom: 15px;\n",
        "    \">🧬 Congratulations!: 🥳</h4>\n",
        "    \n",
        "🎉 Congratulations! 🎉 You did it! 💪 Now you can craft your own recommendation system! 🤩 Go ahead and have some fun with it! 🚀\n",
        "\n",
        "\n",
        "**Pls Upvote if u Like this 🤩 . Your feedback will be valuable for me 🌸**\n",
        "\n",
        "</div>"
      ],
      "metadata": {
        "id": "b3MPpFjcP2h3"
      }
    }
  ]
}