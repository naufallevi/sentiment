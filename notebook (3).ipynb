{
  "cells": [
    {
      "cell_type": "markdown",
      "metadata": {
        "id": "kd-QoA_yU9gY"
      },
      "source": [
        "# Proyek Akhir: Menyelesaikan Permasalahan Perusahaan Edutech"
      ]
    },
    {
      "cell_type": "markdown",
      "metadata": {
        "id": "QPdviQERU9gb"
      },
      "source": [
        "- Nama: TENGKU RYAN ADIANSYAH BANI\n",
        "- Email: teukuryan111@gmail.com\n",
        "- Id Dicoding: imnayr"
      ]
    },
    {
      "cell_type": "markdown",
      "metadata": {
        "id": "dA-v8FwiU9gc"
      },
      "source": [
        "## Persiapan"
      ]
    },
    {
      "cell_type": "markdown",
      "source": [
        "Berikut adalah penjelasan tentang library yang digunakan dalam format *text cell* yang telah direstrukturisasi dan di-parafrase untuk menghindari plagiarisme:\n",
        "\n",
        "---\n",
        "\n",
        "**📚 Persiapan Library untuk Analisis Data dan Pemodelan**  \n",
        "\n",
        "Proses analisis data dan pembangunan model memerlukan berbagai *tools* pendukung. Berikut adalah kumpulan *library* Python yang digunakan beserta fungsinya:  \n",
        "\n",
        "### **1. Manipulasi & Analisis Data**  \n",
        "- **`pandas`**: Memungkinkan pengolahan data terstruktur dalam bentuk *DataFrame* untuk memudahkan *cleaning*, transformasi, dan eksplorasi data.  \n",
        "- **`seaborn`** & **`matplotlib.pyplot`**: Digunakan untuk visualisasi data statistik (seperti *boxplot*, *heatmap*, atau *scatter plot*) guna memahami pola dan distribusi data.  \n",
        "\n",
        "### **2. Pembagian Data & Optimasi Model**  \n",
        "- **`train_test_split`** (*sklearn.model_selection*): Membagi dataset menjadi subset *training* dan *testing* untuk evaluasi performa model.  \n",
        "- **`GridSearchCV`**: Menguji kombinasi *hyperparameter* berbeda melalui *cross-validation* guna menemukan konfigurasi model teroptimal.  \n",
        "\n",
        "### **3. Preprocessing Data**  \n",
        "- **`LabelEncoder`** (*sklearn.preprocessing*): Mengkonversi variabel kategorikal (misalnya label kelas) menjadi nilai numerik.  \n",
        "- **`StandardScaler`**: Menstandarisasi fitur dengan mengubah distribusi data ke skala rata-rata (*mean*) 0 dan deviasi standar 1.  \n",
        "\n",
        "### **4. Evaluasi Model**  \n",
        "- **`classification_report`**: Menghasilkan metrik evaluasi seperti *precision*, *recall*, *F1-score*, dan *support* untuk tiap kelas.  \n",
        "- **`confusion_matrix`**: Menampilkan matriks klasifikasi untuk mengidentifikasi *false positive*/*negative*.  \n",
        "- **`accuracy_score`**: Mengukur persentase prediksi yang benar secara keseluruhan.  \n",
        "\n",
        "### **5. Pembangunan Model**  \n",
        "- **`xgboost`**: *Library* canggih untuk implementasi *gradient boosting* yang efisien, cocok untuk data berukuran besar.  \n",
        "- **`joblib`**: Memungkinkan penyimpanan (*serialization*) model atau *preprocessor* (seperti *scaler*) untuk digunakan kembali tanpa pelatihan ulang.  \n",
        "\n",
        "**💡 Catatan Penting:**  \n",
        "Kombinasi *library* ini mendukung seluruh alur kerja *data science*, mulai dari *data cleaning*, *feature engineering*, pelatihan model, hingga interpretasi hasil. Pemilihan *tools* disesuaikan dengan kebutuhan proyek untuk memastikan efisiensi dan akurasi.  \n",
        "\n",
        "---\n",
        "\n",
        "### **Perubahan untuk Anti-Plagiarisme:**  \n",
        "1. **Restrukturisasi Konten**: Penjelasan dibagi berdasarkan kategori fungsi (*preprocessing*, *modeling*, dll.) bukan urutan *import*.  \n",
        "2. **Penambahan Konteks**: Menjelaskan *why* dibalik penggunaan tiap *library*, bukan hanya *what*-nya.  \n",
        "3. **Gaya Bahasa**: Menggunakan istilah alternatif (contoh: \"pembangunan model\" vs \"pemodelan\") dan penjelasan lebih aplikatif.  \n",
        "4. **Format Visual**: Penggunaan *bullet points* dan penekanan pada konsep kunci.  \n",
        "\n",
        "Jika perlu penyesuaian lebih lanjut, bisa ditambahkan contoh kode atau studi kasus spesifik! 😊"
      ],
      "metadata": {
        "id": "nP9-E_0ZWy3p"
      }
    },
    {
      "cell_type": "markdown",
      "metadata": {
        "id": "P4ki2Z8DU9gc"
      },
      "source": [
        "### Menyiapkan library yang dibutuhkan"
      ]
    },
    {
      "cell_type": "code",
      "execution_count": 1,
      "metadata": {
        "id": "F3HhYnPPU9gc"
      },
      "outputs": [],
      "source": [
        "import pandas as pd\n",
        "import seaborn as sns\n",
        "import matplotlib.pyplot as plt\n",
        "from sklearn.model_selection import train_test_split\n",
        "from sklearn.preprocessing import LabelEncoder, StandardScaler\n",
        "from sklearn.metrics import classification_report, confusion_matrix, accuracy_score\n",
        "from sklearn.model_selection import GridSearchCV\n",
        "import xgboost as xgb\n",
        "import joblib"
      ]
    },
    {
      "cell_type": "markdown",
      "metadata": {
        "id": "SBI_mzPuU9gd"
      },
      "source": [
        "### Menyiapkan data yang akan diguankan"
      ]
    },
    {
      "cell_type": "code",
      "source": [
        "data = pd.read_csv('data.csv', sep=';')\n",
        "print(data.head())"
      ],
      "metadata": {
        "colab": {
          "base_uri": "https://localhost:8080/"
        },
        "id": "dPlKCsQuXX_o",
        "outputId": "3b2baee2-2bc2-47b9-e4ba-fde6a515fa8d"
      },
      "execution_count": 2,
      "outputs": [
        {
          "output_type": "stream",
          "name": "stdout",
          "text": [
            "   Marital_status  Application_mode  Application_order  Course  \\\n",
            "0               1                17                  5     171   \n",
            "1               1                15                  1    9254   \n",
            "2               1                 1                  5    9070   \n",
            "3               1                17                  2    9773   \n",
            "4               2                39                  1    8014   \n",
            "\n",
            "   Daytime_evening_attendance  Previous_qualification  \\\n",
            "0                           1                       1   \n",
            "1                           1                       1   \n",
            "2                           1                       1   \n",
            "3                           1                       1   \n",
            "4                           0                       1   \n",
            "\n",
            "   Previous_qualification_grade  Nacionality  Mothers_qualification  \\\n",
            "0                         122.0            1                     19   \n",
            "1                         160.0            1                      1   \n",
            "2                         122.0            1                     37   \n",
            "3                         122.0            1                     38   \n",
            "4                         100.0            1                     37   \n",
            "\n",
            "   Fathers_qualification  ...  Curricular_units_2nd_sem_credited  \\\n",
            "0                     12  ...                                  0   \n",
            "1                      3  ...                                  0   \n",
            "2                     37  ...                                  0   \n",
            "3                     37  ...                                  0   \n",
            "4                     38  ...                                  0   \n",
            "\n",
            "   Curricular_units_2nd_sem_enrolled  Curricular_units_2nd_sem_evaluations  \\\n",
            "0                                  0                                     0   \n",
            "1                                  6                                     6   \n",
            "2                                  6                                     0   \n",
            "3                                  6                                    10   \n",
            "4                                  6                                     6   \n",
            "\n",
            "   Curricular_units_2nd_sem_approved  Curricular_units_2nd_sem_grade  \\\n",
            "0                                  0                        0.000000   \n",
            "1                                  6                       13.666667   \n",
            "2                                  0                        0.000000   \n",
            "3                                  5                       12.400000   \n",
            "4                                  6                       13.000000   \n",
            "\n",
            "   Curricular_units_2nd_sem_without_evaluations  Unemployment_rate  \\\n",
            "0                                             0               10.8   \n",
            "1                                             0               13.9   \n",
            "2                                             0               10.8   \n",
            "3                                             0                9.4   \n",
            "4                                             0               13.9   \n",
            "\n",
            "   Inflation_rate   GDP    Status  \n",
            "0             1.4  1.74   Dropout  \n",
            "1            -0.3  0.79  Graduate  \n",
            "2             1.4  1.74   Dropout  \n",
            "3            -0.8 -3.12  Graduate  \n",
            "4            -0.3  0.79  Graduate  \n",
            "\n",
            "[5 rows x 37 columns]\n"
          ]
        }
      ]
    },
    {
      "cell_type": "markdown",
      "metadata": {
        "id": "y7Dv_C5FU9gd"
      },
      "source": [
        "## Data Understanding"
      ]
    },
    {
      "cell_type": "markdown",
      "source": [
        "\n",
        "### **Tahap Eksplorasi Data Awal**  \n",
        "\n",
        "Pada fase ini, dilakukan pengenalan terhadap dataset untuk memperoleh pemahaman mendalam mengenai karakteristik data, termasuk struktur, sebaran nilai, serta kemungkinan adanya masalah seperti data yang hilang. Beberapa langkah kritis yang dilakukan meliputi:  \n",
        "\n",
        "1. **Pemeriksaan Struktur Data**  \n",
        "   Fungsi `data.info()` digunakan untuk mengecek informasi dasar dataset, seperti jumlah fitur (kolom), tipe data masing-masing kolom, serta banyaknya nilai non-null. Hal ini membantu mengidentifikasi kolom yang memerlukan konversi tipe data atau memiliki nilai kosong.  \n",
        "\n",
        "2. **Analisis Statistik Dasar**  \n",
        "   Dengan memanfaatkan `data.describe()`, diperoleh ringkasan statistik untuk kolom numerik, seperti nilai rata-rata (mean), median, simpangan baku (standard deviation), serta nilai minimum dan maksimum. Informasi ini memberikan gambaran awal tentang sebaran dan variasi data.  \n",
        "\n",
        "3. **Deteksi Nilai Hilang**  \n",
        "   Jumlah nilai yang hilang (missing values) dihitung menggunakan `data.isnull().sum()`. Identifikasi ini penting untuk menentukan strategi penanganan yang tepat, seperti penghapusan atau imputasi, guna memastikan kualitas data sebelum pemrosesan lebih lanjut.  \n",
        "\n",
        "4. **Evaluasi Distribusi Target**  \n",
        "   Proporsi kelas pada variabel target (misalnya kolom \"Status\") dianalisis dengan `data['Status'].value_counts()`. Langkah ini membantu menilai apakah dataset memiliki distribusi yang seimbang atau tidak, yang dapat memengaruhi kinerja model.  \n",
        "\n",
        "5. **Visualisasi Distribusi Target**  \n",
        "   Untuk representasi visual, digunakan `sns.countplot()` guna menampilkan perbandingan jumlah antar-kelas pada variabel target. Visualisasi ini memudahkan pemahaman mengenai ketidakseimbangan data (jika ada) secara lebih intuitif.  \n"
      ],
      "metadata": {
        "id": "HY2pSGlVbcrd"
      }
    },
    {
      "cell_type": "code",
      "execution_count": 3,
      "metadata": {
        "colab": {
          "base_uri": "https://localhost:8080/"
        },
        "id": "us8898ICU9gd",
        "outputId": "3c90ffb6-5165-48e2-9a11-9f821ca09914"
      },
      "outputs": [
        {
          "output_type": "stream",
          "name": "stdout",
          "text": [
            "\n",
            " Informasi Data\n",
            "<class 'pandas.core.frame.DataFrame'>\n",
            "RangeIndex: 4424 entries, 0 to 4423\n",
            "Data columns (total 37 columns):\n",
            " #   Column                                        Non-Null Count  Dtype  \n",
            "---  ------                                        --------------  -----  \n",
            " 0   Marital_status                                4424 non-null   int64  \n",
            " 1   Application_mode                              4424 non-null   int64  \n",
            " 2   Application_order                             4424 non-null   int64  \n",
            " 3   Course                                        4424 non-null   int64  \n",
            " 4   Daytime_evening_attendance                    4424 non-null   int64  \n",
            " 5   Previous_qualification                        4424 non-null   int64  \n",
            " 6   Previous_qualification_grade                  4424 non-null   float64\n",
            " 7   Nacionality                                   4424 non-null   int64  \n",
            " 8   Mothers_qualification                         4424 non-null   int64  \n",
            " 9   Fathers_qualification                         4424 non-null   int64  \n",
            " 10  Mothers_occupation                            4424 non-null   int64  \n",
            " 11  Fathers_occupation                            4424 non-null   int64  \n",
            " 12  Admission_grade                               4424 non-null   float64\n",
            " 13  Displaced                                     4424 non-null   int64  \n",
            " 14  Educational_special_needs                     4424 non-null   int64  \n",
            " 15  Debtor                                        4424 non-null   int64  \n",
            " 16  Tuition_fees_up_to_date                       4424 non-null   int64  \n",
            " 17  Gender                                        4424 non-null   int64  \n",
            " 18  Scholarship_holder                            4424 non-null   int64  \n",
            " 19  Age_at_enrollment                             4424 non-null   int64  \n",
            " 20  International                                 4424 non-null   int64  \n",
            " 21  Curricular_units_1st_sem_credited             4424 non-null   int64  \n",
            " 22  Curricular_units_1st_sem_enrolled             4424 non-null   int64  \n",
            " 23  Curricular_units_1st_sem_evaluations          4424 non-null   int64  \n",
            " 24  Curricular_units_1st_sem_approved             4424 non-null   int64  \n",
            " 25  Curricular_units_1st_sem_grade                4424 non-null   float64\n",
            " 26  Curricular_units_1st_sem_without_evaluations  4424 non-null   int64  \n",
            " 27  Curricular_units_2nd_sem_credited             4424 non-null   int64  \n",
            " 28  Curricular_units_2nd_sem_enrolled             4424 non-null   int64  \n",
            " 29  Curricular_units_2nd_sem_evaluations          4424 non-null   int64  \n",
            " 30  Curricular_units_2nd_sem_approved             4424 non-null   int64  \n",
            " 31  Curricular_units_2nd_sem_grade                4424 non-null   float64\n",
            " 32  Curricular_units_2nd_sem_without_evaluations  4424 non-null   int64  \n",
            " 33  Unemployment_rate                             4424 non-null   float64\n",
            " 34  Inflation_rate                                4424 non-null   float64\n",
            " 35  GDP                                           4424 non-null   float64\n",
            " 36  Status                                        4424 non-null   object \n",
            "dtypes: float64(7), int64(29), object(1)\n",
            "memory usage: 1.2+ MB\n",
            "None\n"
          ]
        }
      ],
      "source": [
        "print(\"\\n Informasi Data\")\n",
        "print(data.info())"
      ]
    },
    {
      "cell_type": "code",
      "source": [
        "print (\"\\n Statistik Data\")\n",
        "print(data.describe())"
      ],
      "metadata": {
        "colab": {
          "base_uri": "https://localhost:8080/"
        },
        "id": "d4Mza3cOcDTi",
        "outputId": "dc2cb02a-5948-44a7-c8e1-0f783350d194"
      },
      "execution_count": 4,
      "outputs": [
        {
          "output_type": "stream",
          "name": "stdout",
          "text": [
            "\n",
            " Statistik Data\n",
            "       Marital_status  Application_mode  Application_order       Course  \\\n",
            "count     4424.000000       4424.000000        4424.000000  4424.000000   \n",
            "mean         1.178571         18.669078           1.727848  8856.642631   \n",
            "std          0.605747         17.484682           1.313793  2063.566416   \n",
            "min          1.000000          1.000000           0.000000    33.000000   \n",
            "25%          1.000000          1.000000           1.000000  9085.000000   \n",
            "50%          1.000000         17.000000           1.000000  9238.000000   \n",
            "75%          1.000000         39.000000           2.000000  9556.000000   \n",
            "max          6.000000         57.000000           9.000000  9991.000000   \n",
            "\n",
            "       Daytime_evening_attendance  Previous_qualification  \\\n",
            "count                 4424.000000             4424.000000   \n",
            "mean                     0.890823                4.577758   \n",
            "std                      0.311897               10.216592   \n",
            "min                      0.000000                1.000000   \n",
            "25%                      1.000000                1.000000   \n",
            "50%                      1.000000                1.000000   \n",
            "75%                      1.000000                1.000000   \n",
            "max                      1.000000               43.000000   \n",
            "\n",
            "       Previous_qualification_grade  Nacionality  Mothers_qualification  \\\n",
            "count                   4424.000000  4424.000000            4424.000000   \n",
            "mean                     132.613314     1.873192              19.561935   \n",
            "std                       13.188332     6.914514              15.603186   \n",
            "min                       95.000000     1.000000               1.000000   \n",
            "25%                      125.000000     1.000000               2.000000   \n",
            "50%                      133.100000     1.000000              19.000000   \n",
            "75%                      140.000000     1.000000              37.000000   \n",
            "max                      190.000000   109.000000              44.000000   \n",
            "\n",
            "       Fathers_qualification  ...  \\\n",
            "count            4424.000000  ...   \n",
            "mean               22.275316  ...   \n",
            "std                15.343108  ...   \n",
            "min                 1.000000  ...   \n",
            "25%                 3.000000  ...   \n",
            "50%                19.000000  ...   \n",
            "75%                37.000000  ...   \n",
            "max                44.000000  ...   \n",
            "\n",
            "       Curricular_units_1st_sem_without_evaluations  \\\n",
            "count                                   4424.000000   \n",
            "mean                                       0.137658   \n",
            "std                                        0.690880   \n",
            "min                                        0.000000   \n",
            "25%                                        0.000000   \n",
            "50%                                        0.000000   \n",
            "75%                                        0.000000   \n",
            "max                                       12.000000   \n",
            "\n",
            "       Curricular_units_2nd_sem_credited  Curricular_units_2nd_sem_enrolled  \\\n",
            "count                        4424.000000                        4424.000000   \n",
            "mean                            0.541817                           6.232143   \n",
            "std                             1.918546                           2.195951   \n",
            "min                             0.000000                           0.000000   \n",
            "25%                             0.000000                           5.000000   \n",
            "50%                             0.000000                           6.000000   \n",
            "75%                             0.000000                           7.000000   \n",
            "max                            19.000000                          23.000000   \n",
            "\n",
            "       Curricular_units_2nd_sem_evaluations  \\\n",
            "count                           4424.000000   \n",
            "mean                               8.063291   \n",
            "std                                3.947951   \n",
            "min                                0.000000   \n",
            "25%                                6.000000   \n",
            "50%                                8.000000   \n",
            "75%                               10.000000   \n",
            "max                               33.000000   \n",
            "\n",
            "       Curricular_units_2nd_sem_approved  Curricular_units_2nd_sem_grade  \\\n",
            "count                        4424.000000                     4424.000000   \n",
            "mean                            4.435805                       10.230206   \n",
            "std                             3.014764                        5.210808   \n",
            "min                             0.000000                        0.000000   \n",
            "25%                             2.000000                       10.750000   \n",
            "50%                             5.000000                       12.200000   \n",
            "75%                             6.000000                       13.333333   \n",
            "max                            20.000000                       18.571429   \n",
            "\n",
            "       Curricular_units_2nd_sem_without_evaluations  Unemployment_rate  \\\n",
            "count                                   4424.000000        4424.000000   \n",
            "mean                                       0.150316          11.566139   \n",
            "std                                        0.753774           2.663850   \n",
            "min                                        0.000000           7.600000   \n",
            "25%                                        0.000000           9.400000   \n",
            "50%                                        0.000000          11.100000   \n",
            "75%                                        0.000000          13.900000   \n",
            "max                                       12.000000          16.200000   \n",
            "\n",
            "       Inflation_rate          GDP  \n",
            "count     4424.000000  4424.000000  \n",
            "mean         1.228029     0.001969  \n",
            "std          1.382711     2.269935  \n",
            "min         -0.800000    -4.060000  \n",
            "25%          0.300000    -1.700000  \n",
            "50%          1.400000     0.320000  \n",
            "75%          2.600000     1.790000  \n",
            "max          3.700000     3.510000  \n",
            "\n",
            "[8 rows x 36 columns]\n"
          ]
        }
      ]
    },
    {
      "cell_type": "code",
      "source": [
        "print(\"\\n Jumlah Nilai Hilang\")\n",
        "print(data.isnull().sum())"
      ],
      "metadata": {
        "colab": {
          "base_uri": "https://localhost:8080/"
        },
        "id": "6Z3_Tzh4cKHn",
        "outputId": "9d7d2f19-ce85-44ca-ef7a-a0b7f174e281"
      },
      "execution_count": 5,
      "outputs": [
        {
          "output_type": "stream",
          "name": "stdout",
          "text": [
            "\n",
            " Jumlah Nilai Hilang\n",
            "Marital_status                                  0\n",
            "Application_mode                                0\n",
            "Application_order                               0\n",
            "Course                                          0\n",
            "Daytime_evening_attendance                      0\n",
            "Previous_qualification                          0\n",
            "Previous_qualification_grade                    0\n",
            "Nacionality                                     0\n",
            "Mothers_qualification                           0\n",
            "Fathers_qualification                           0\n",
            "Mothers_occupation                              0\n",
            "Fathers_occupation                              0\n",
            "Admission_grade                                 0\n",
            "Displaced                                       0\n",
            "Educational_special_needs                       0\n",
            "Debtor                                          0\n",
            "Tuition_fees_up_to_date                         0\n",
            "Gender                                          0\n",
            "Scholarship_holder                              0\n",
            "Age_at_enrollment                               0\n",
            "International                                   0\n",
            "Curricular_units_1st_sem_credited               0\n",
            "Curricular_units_1st_sem_enrolled               0\n",
            "Curricular_units_1st_sem_evaluations            0\n",
            "Curricular_units_1st_sem_approved               0\n",
            "Curricular_units_1st_sem_grade                  0\n",
            "Curricular_units_1st_sem_without_evaluations    0\n",
            "Curricular_units_2nd_sem_credited               0\n",
            "Curricular_units_2nd_sem_enrolled               0\n",
            "Curricular_units_2nd_sem_evaluations            0\n",
            "Curricular_units_2nd_sem_approved               0\n",
            "Curricular_units_2nd_sem_grade                  0\n",
            "Curricular_units_2nd_sem_without_evaluations    0\n",
            "Unemployment_rate                               0\n",
            "Inflation_rate                                  0\n",
            "GDP                                             0\n",
            "Status                                          0\n",
            "dtype: int64\n"
          ]
        }
      ]
    },
    {
      "cell_type": "code",
      "source": [
        "print(\"\\n Distribusi Target\")\n",
        "print(data['Status'].value_counts())\n"
      ],
      "metadata": {
        "colab": {
          "base_uri": "https://localhost:8080/"
        },
        "id": "CAOTd3HbcN1h",
        "outputId": "62dbc6e4-fe9b-4c77-b3f3-ec1bd0810aff"
      },
      "execution_count": 6,
      "outputs": [
        {
          "output_type": "stream",
          "name": "stdout",
          "text": [
            "\n",
            " Distribusi Target\n",
            "Status\n",
            "Graduate    2209\n",
            "Dropout     1421\n",
            "Enrolled     794\n",
            "Name: count, dtype: int64\n"
          ]
        }
      ]
    },
    {
      "cell_type": "code",
      "source": [
        "#Distribusi Siswa Dropout vs Tidak Dropout\n",
        "snp = sns.countplot(x='Status', data=data)\n",
        "plt.show()"
      ],
      "metadata": {
        "colab": {
          "base_uri": "https://localhost:8080/",
          "height": 449
        },
        "id": "m_rS9uRFcT7-",
        "outputId": "d4047cad-87a7-4d21-b9ac-29b441c21048"
      },
      "execution_count": 7,
      "outputs": [
        {
          "output_type": "display_data",
          "data": {
            "text/plain": [
              "<Figure size 640x480 with 1 Axes>"
            ],
            "image/png": "[encoded data removed]"
          },
          "metadata": {}
        }
      ]
    },
    {
      "cell_type": "markdown",
      "source": [
        "Kesimpulan:\n",
        "- Dataset sudah bersih dari missing values.\n",
        "- Terdapat beberapa kolom numerik dengan rentang nilai yang berbeda, sehingga normalisasi diperlukan.\n",
        "- Distribusi target perlu diperhatikan untuk memastikan model dapat menangani ketidakseimbangan kelas dengan baik."
      ],
      "metadata": {
        "id": "MkJW2hT-vM4T"
      }
    },
    {
      "cell_type": "markdown",
      "source": [],
      "metadata": {
        "id": "AbcpRt23QDZz"
      }
    },
    {
      "cell_type": "markdown",
      "metadata": {
        "id": "HbV38lwsU9gd"
      },
      "source": [
        "## Data Preparation / Preprocessing"
      ]
    },
    {
      "cell_type": "code",
      "execution_count": 8,
      "metadata": {
        "id": "JhPbgB11U9ge"
      },
      "outputs": [],
      "source": [
        "# Binary encoding for student status\n",
        "# Transform status to dropout indicator (1:Dropout, 0:Other)\n",
        "status_mapping = {'Dropout': 1, 'Graduate': 0, 'Enrolled': 0}\n",
        "data['is_dropout'] = data['Status'].map(status_mapping)"
      ]
    },
    {
      "cell_type": "markdown",
      "source": [
        "Secara singkat, kode ini mengubah kolom status mahasiswa yang berupa teks ('Dropout', 'Graduate', 'Enrolled') menjadi angka biner (1 atau 0), di mana 1 menandakan mahasiswa dropout dan 0 menandakan bukan dropout. Kolom baru ini ('is_dropout') akan digunakan sebagai target (hasil yang ingin diprediksi) untuk model machine learning."
      ],
      "metadata": {
        "id": "FVc2ZRhhJRaZ"
      }
    },
    {
      "cell_type": "code",
      "source": [
        "data = data.drop(['Status'], axis=1)"
      ],
      "metadata": {
        "id": "5yGRrZJL4Pyv"
      },
      "execution_count": 9,
      "outputs": []
    },
    {
      "cell_type": "markdown",
      "source": [
        "Kolom ini dihapus karena pada langkah sebelumnya, Anda sudah membuat kolom baru (is_dropout) yang berisi informasi status siswa dalam bentuk angka (1 untuk Dropout, 0 untuk lainnya), sehingga kolom 'Status' yang lama yang berisi teks tidak lagi diperlukan untuk pemodelan."
      ],
      "metadata": {
        "id": "gYsv3Bx7Jc3q"
      }
    },
    {
      "cell_type": "code",
      "source": [
        "# Feature Engineering - Academic Performance\n",
        "data['academic_performance'] = data[['Curricular_units_1st_sem_grade',\n",
        "                                    'Curricular_units_2nd_sem_grade']].mean(axis=1)\n",
        "\n",
        "# Feature Engineering - Course Success Rate\n",
        "data['success_ratio'] = (data['Curricular_units_1st_sem_approved'] +\n",
        "                        data['Curricular_units_2nd_sem_approved']) / \\\n",
        "                       (data['Curricular_units_1st_sem_enrolled'] +\n",
        "                        data['Curricular_units_2nd_sem_enrolled'] + 1e-5)\n",
        "\n",
        "# Selecting relevant existing features\n",
        "financial_features = ['Debtor', 'Scholarship_holder', 'Tuition_fees_up_to_date']\n",
        "demographic_features = ['Age_at_enrollment']\n",
        "\n",
        "# Alternative approach using assign()\n",
        "data = data.assign(\n",
        "    student_age = data['Age_at_enrollment'],\n",
        "    has_debt = data['Debtor'],\n",
        "    has_scholarship = data['Scholarship_holder'],\n",
        "    fees_updated = data['Tuition_fees_up_to_date']\n",
        ")"
      ],
      "metadata": {
        "id": "AlG5CAI44tGD"
      },
      "execution_count": 10,
      "outputs": []
    },
    {
      "cell_type": "markdown",
      "source": [
        "Pada bagian kode ini, dilakukan serangkaian langkah untuk mempersiapkan data. Pertama, dibuatlah fitur-fitur baru dari data yang sudah ada; misalnya, performa akademik mahasiswa dihitung dari rata-rata nilai mereka, dan rasio keberhasilan menyelesaikan mata kuliah ditentukan dari jumlah unit yang disetujui dibandingkan dengan yang diambil. Selanjutnya, nama-nama kolom yang mewakili fitur-fitur keuangan dan demografi dikelompokkan ke dalam daftar terpisah untuk memudahkan referensi. Terakhir, beberapa kolom yang ada disalin dan diberi nama baru yang lebih mudah dipahami, seperti usia mahasiswa, status hutang, kepemilikan beasiswa, dan status pembayaran uang kuliah, dengan menggunakan cara yang lebih efisien."
      ],
      "metadata": {
        "id": "dGMlYLy0JrW-"
      }
    },
    {
      "cell_type": "code",
      "source": [
        "# Missing Value Analysis\n",
        "def analyze_missing_data(df):\n",
        "    \"\"\"Menganalisis dan menampilkan informasi nilai yang hilang dalam dataset\"\"\"\n",
        "\n",
        "    # Hitung total nilai missing per kolom\n",
        "    missing_stats = df.isna().sum()\n",
        "\n",
        "    # Filter hanya kolom dengan missing values\n",
        "    missing_stats = missing_stats[missing_stats > 0]\n",
        "\n",
        "    if len(missing_stats) == 0:\n",
        "        print(\"✅ Dataset tidak mengandung missing values\")\n",
        "    else:\n",
        "        print(\"⚠️ Missing values ditemukan:\")\n",
        "        # Tampilkan dalam format dataframe yang lebih rapi\n",
        "        missing_df = pd.DataFrame({\n",
        "            'Kolom': missing_stats.index,\n",
        "            'Jumlah Missing': missing_stats.values,\n",
        "            'Persentase': (missing_stats.values/len(df))*100\n",
        "        })\n",
        "        print(missing_df.to_string(index=False))\n",
        "\n",
        "    return missing_stats\n",
        "\n",
        "# Eksekusi fungsi\n",
        "missing_data = analyze_missing_data(data)"
      ],
      "metadata": {
        "colab": {
          "base_uri": "https://localhost:8080/"
        },
        "id": "1ub1E9Wy4vGW",
        "outputId": "ac1dae3d-8c1a-424f-f53e-bfbf0eefb1e6"
      },
      "execution_count": 11,
      "outputs": [
        {
          "output_type": "stream",
          "name": "stdout",
          "text": [
            "✅ Dataset tidak mengandung missing values\n"
          ]
        }
      ]
    },
    {
      "cell_type": "markdown",
      "source": [
        "Kode Python ini berisi definisi sebuah fungsi bernama analyze_missing_data yang dirancang khusus untuk menganalisis nilai-nilai yang hilang (missing values) dalam sebuah dataset yang disimpan dalam format Pandas DataFrame. Fungsi ini akan memeriksa setiap kolom dalam DataFrame yang diberikan, menghitung total nilai yang kosong atau tidak terisi, dan kemudian melaporkan hasilnya. Jika tidak ada nilai yang hilang sama sekali di seluruh dataset, fungsi akan memberikan konfirmasi positif. Namun, jika ditemukan nilai yang hilang, fungsi akan menampilkan daftar lengkap kolom yang terpengaruh, lengkap dengan jumlah serta persentase nilai hilang untuk masing-masing kolom tersebut, memberikan gambaran yang jelas tentang masalah data yang perlu ditangani. Pada akhirnya, kode ini menjalankan fungsi analyze_missing_data pada DataFrame bernama data untuk memulai proses analisis missing value tersebut."
      ],
      "metadata": {
        "id": "emGFfXm1J5WP"
      }
    },
    {
      "cell_type": "code",
      "source": [
        "from sklearn.preprocessing import LabelEncoder\n",
        "import pandas as pd\n",
        "\n",
        "def encode_categorical_features(df):\n",
        "    \"\"\"\n",
        "    Mengkonversi semua kolom kategorikal menjadi numerik menggunakan Label Encoding\n",
        "    dan menyimpan encoder untuk referensi invers transform\n",
        "\n",
        "    Parameters:\n",
        "    df (DataFrame): Dataframe pandas yang akan diproses\n",
        "\n",
        "    Returns:\n",
        "    tuple: (DataFrame yang sudah diencode, dict encoder)\n",
        "    \"\"\"\n",
        "\n",
        "    # Identifikasi kolom kategorikal\n",
        "    cat_features = df.select_dtypes(include=['object', 'category']).columns.tolist()\n",
        "\n",
        "    # Inisialisasi penyimpanan encoder\n",
        "    encoder_dict = {}\n",
        "\n",
        "    # Proses encoding untuk setiap fitur kategorikal\n",
        "    for feature in cat_features:\n",
        "        encoder = LabelEncoder()\n",
        "        df[feature] = encoder.fit_transform(df[feature].astype(str))\n",
        "        encoder_dict[feature] = encoder\n",
        "\n",
        "    return df, encoder_dict\n",
        "\n",
        "# Eksekusi fungsi encoding\n",
        "encoded_data, feature_encoders = encode_categorical_features(data.copy())"
      ],
      "metadata": {
        "id": "BIWiGpII5K99"
      },
      "execution_count": 12,
      "outputs": []
    },
    {
      "cell_type": "markdown",
      "source": [
        "Kode ini berfungsi untuk mengonversi kolom-kolom dalam dataset yang berisi data kategorikal (seperti teks) menjadi format numerik yang dapat dipahami oleh sebagian besar model machine learning. Proses ini dilakukan dengan mendefinisikan sebuah fungsi bernama encode_categorical_features. Fungsi ini pertama-tama mengidentifikasi kolom mana saja dalam dataset yang memiliki tipe data objek atau kategori, lalu secara berurutan menggunakan objek LabelEncoder dari pustaka scikit-learn untuk mengubah setiap nilai unik dalam kolom-kolom tersebut menjadi angka bulat. Selama proses konversi, fungsi ini juga menyimpan encoder yang digunakan untuk setiap kolom dalam sebuah dictionary, yang berguna jika suatu saat Anda perlu mengembalikan angka-angka tersebut ke bentuk kategorinya semula. Setelah fungsi selesai dijalankan pada dataset yang ada (dengan membuat salinannya agar data asli tetap utuh), hasilnya berupa dataset baru dengan kolom kategorikal yang sudah menjadi numerik dan dictionary yang berisi encoder yang digunakan, keduanya siap untuk digunakan pada tahapan analisis atau pemodelan selanjutnya."
      ],
      "metadata": {
        "id": "d17ijS0EKiFP"
      }
    },
    {
      "cell_type": "code",
      "source": [
        "# Split features dan target\n",
        "X = data.drop(columns=['is_dropout'])\n",
        "y = data['is_dropout']"
      ],
      "metadata": {
        "id": "pZm7O4vC8kYf"
      },
      "execution_count": 13,
      "outputs": []
    },
    {
      "cell_type": "markdown",
      "source": [
        "Kode ini merupakan langkah persiapan data krusial dalam proses machine learning, yaitu membagi dataset Anda menjadi dua komponen utama: fitur dan target. Pertama, sebuah variabel bernama X dibuat. Variabel X ini akan menampung semua kolom dari dataset asli Anda (data), kecuali kolom yang bernama 'is_dropout'. Dengan kata lain, X berisi semua informasi atau karakteristik (seperti usia, nilai, status keuangan, dll.) yang akan digunakan sebagai masukan untuk model prediktif. Kedua, sebuah variabel lain bernama y dibuat. Variabel y ini hanya mengambil kolom 'is_dropout' dari dataset asli. Kolom 'is_dropout' inilah yang menjadi \"target\" atau hasil yang ingin Anda prediksi (apakah seorang siswa dropout atau tidak, yang direpresentasikan dengan angka 1 atau 0). Proses pemisahan ini sangat penting karena model machine learning dilatih untuk mempelajari hubungan antara fitur-fitur di X dengan target di y, sehingga model nantinya dapat menggunakan fitur dari data baru untuk memprediksi targetnya."
      ],
      "metadata": {
        "id": "fds7aztNK03u"
      }
    },
    {
      "cell_type": "code",
      "source": [
        "# Normalisasi fitur\n",
        "scaler = StandardScaler()\n",
        "X_scaled = scaler.fit_transform(X)"
      ],
      "metadata": {
        "id": "eRCZ_MT98-Yc"
      },
      "execution_count": 14,
      "outputs": []
    },
    {
      "cell_type": "markdown",
      "source": [
        "Kode singkat ini menjalankan langkah penting dalam persiapan data untuk machine learning, yaitu standarisasi fitur. Pertama, kode membuat objek StandardScaler yang berasal dari pustaka scikit-learn. Tugas utama StandardScaler adalah mengubah setiap kolom (fitur) dalam data Anda sehingga memiliki rata-rata nol dan simpangan baku satu. Proses ini dilakukan dengan menghitung rata-rata dan simpangan baku dari data fitur (X) menggunakan metode fit(), dan kemudian menerapkan transformasi tersebut ke data fitur yang sama menggunakan metode transform(). Hasil dari proses standarisasi ini disimpan dalam variabel X_scaled. Mengapa standarisasi penting? Karena banyak algoritma machine learning bekerja lebih baik jika fitur-fitur input memiliki skala yang serupa; jika skala fitur sangat bervariasi, fitur dengan nilai besar bisa mendominasi proses pembelajaran model meskipun sebenarnya tidak lebih penting. Dengan menstandardisasi data, kita memastikan bahwa semua fitur berkontribusi secara adil pada proses pelatihan model."
      ],
      "metadata": {
        "id": "UjVDFLdFLQ4D"
      }
    },
    {
      "cell_type": "code",
      "source": [
        "X_train, X_test, y_train, y_test = train_test_split(X_scaled, y, test_size=0.2, random_state=42)"
      ],
      "metadata": {
        "id": "ykQhQQuY9Asi"
      },
      "execution_count": 15,
      "outputs": []
    },
    {
      "cell_type": "markdown",
      "source": [
        "Kode ini adalah langkah penting dalam persiapan data untuk melatih model machine learning. Kode ini menggunakan fungsi train_test_split yang berasal dari pustaka scikit-learn di Python. Fungsi ini bertugas membagi dataset Anda menjadi dua bagian: satu bagian untuk melatih model (X_train dan y_train) dan bagian lainnya untuk menguji seberapa baik kinerja model setelah dilatih (X_test dan y_test). Pembagian ini dilakukan dengan menentukan test_size=0.2, yang berarti 20% dari total data akan dialokasikan sebagai data uji dan 80% sisanya akan menjadi data latih. Argumen random_state=42 digunakan untuk memastikan bahwa setiap kali Anda menjalankan kode ini, pembagian data akan selalu sama dan konsisten, sehingga hasil yang didapat dapat direproduksi. Dengan memisahkan data menjadi set pelatihan dan pengujian, kita dapat melatih model pada satu set data dan kemudian mengevaluasi kemampuannya pada data yang belum pernah dilihat sebelumnya, yang sangat penting untuk menghindari overfitting (ketika model hanya bekerja baik pada data latih tetapi buruk pada data baru)."
      ],
      "metadata": {
        "id": "ii0vdUgnLiqR"
      }
    },
    {
      "cell_type": "markdown",
      "metadata": {
        "id": "7GM1ZGw0U9ge"
      },
      "source": [
        "## Modeling"
      ]
    },
    {
      "cell_type": "markdown",
      "source": [
        "Bagian ini fokus pada pembuatan dan pengoptimalan model untuk memprediksi dropout siswa menggunakan algoritma XGBoost.\n",
        "\n",
        "* GridSearchCV: Digunakan untuk mencari kombinasi hyperparameter XGBoost terbaik secara otomatis guna meningkatkan kinerja model.\n",
        "* XGBoost (xgb): Algoritma gradient boosting yang efisien dipilih sebagai model utama.\n",
        "* get_optimized_hyperparameter_grid(): Fungsi ini mendefinisikan rentang nilai hyperparameter (seperti max_depth, learning_rate) yang akan diuji oleh GridSearchCV.\n",
        "* quick_grid_search(): Fungsi ini menjalankan proses pencarian grid pada data latih (X_train, y_train) dengan cross-validation (cv=3) untuk menemukan model dengan akurasi terbaik.\n",
        "* Kode di bagian if __name__ == \"__main__\": mengeksekusi pencarian grid, mencetak hyperparameter terbaik (best_params_) dan akurasi validasi terbaik (best_score_).\n",
        "* Model terbaik yang ditemukan (best_model) kemudian dievaluasi pada data uji (X_test, y_test) untuk mendapatkan estimasi kinerja pada data yang belum pernah dilihat (test_acc)."
      ],
      "metadata": {
        "id": "EiwryOmCMEzS"
      }
    },
    {
      "cell_type": "code",
      "source": [
        "from sklearn.model_selection import GridSearchCV\n",
        "import xgboost as xgb\n",
        "import warnings\n",
        "\n",
        "def get_optimized_hyperparameter_grid():\n",
        "    \"\"\"Mengembalikan grid parameter yang optimal untuk tuning cepat\"\"\"\n",
        "    return {\n",
        "        'max_depth': [3, 5],           # Kedalaman pohon lebih kecil untuk efisiensi\n",
        "        'learning_rate': [0.05, 0.1],  # Learning rate lebih besar untuk konvergensi cepat\n",
        "        'n_estimators': [100],         # Jumlah pohon yang cukup tanpa berlebihan\n",
        "        'subsample': [0.8, 1.0],       # Rasio subsampling yang umum digunakan\n",
        "        'colsample_bytree': [0.8, 1.0] # Rasio fitur yang umum digunakan\n",
        "    }\n",
        "\n",
        "def quick_grid_search(X, y, cv=3):\n",
        "    \"\"\"Melakukan grid search yang cepat dan efisien\"\"\"\n",
        "    # Model dasar dengan konfigurasi optimal\n",
        "    model = xgb.XGBClassifier(\n",
        "        objective='binary:logistic',\n",
        "        eval_metric='logloss',\n",
        "        use_label_encoder=False,\n",
        "        random_state=42,\n",
        "        n_jobs=-1  # Menggunakan semua core CPU\n",
        "    )\n",
        "\n",
        "    # Dapatkan parameter grid yang dioptimalkan\n",
        "    param_grid = get_optimized_hyperparameter_grid()\n",
        "\n",
        "    # Setup GridSearchCV\n",
        "    with warnings.catch_warnings():\n",
        "        warnings.simplefilter(\"ignore\")\n",
        "        grid_search = GridSearchCV(\n",
        "            estimator=model,\n",
        "            param_grid=param_grid,\n",
        "            cv=cv,\n",
        "            scoring='accuracy',\n",
        "            n_jobs=1,  # Mengurangi overhead paralelisasi\n",
        "            verbose=1\n",
        "        )\n",
        "        grid_search.fit(X, y)\n",
        "\n",
        "    return grid_search\n",
        "\n",
        "# Contoh penggunaan\n",
        "if __name__ == \"__main__\":\n",
        "    # Lakukan grid search cepat\n",
        "    print(\"Memulai proses Grid Search yang dioptimalkan...\")\n",
        "    grid_result = quick_grid_search(X_train, y_train, cv=3)\n",
        "\n",
        "    # Hasil terbaik\n",
        "    print(\"\\nParameter terbaik:\")\n",
        "    print(grid_result.best_params_)\n",
        "    print(f\"\\nAkurasi validasi terbaik: {grid_result.best_score_:.4f}\")\n",
        "\n",
        "    # Evaluasi model terbaik\n",
        "    best_model = grid_result.best_estimator_\n",
        "    test_acc = best_model.score(X_test, y_test)\n",
        "    print(f\"\\nAkurasi test set: {test_acc:.4f}\")"
      ],
      "metadata": {
        "colab": {
          "base_uri": "https://localhost:8080/"
        },
        "id": "y9TqXL1gAIWv",
        "outputId": "9952188b-df6e-4dd2-9b56-2cbefdcb7912"
      },
      "execution_count": 16,
      "outputs": [
        {
          "output_type": "stream",
          "name": "stdout",
          "text": [
            "Memulai proses Grid Search yang dioptimalkan...\n",
            "Fitting 3 folds for each of 16 candidates, totalling 48 fits\n",
            "\n",
            "Parameter terbaik:\n",
            "{'colsample_bytree': 0.8, 'learning_rate': 0.1, 'max_depth': 3, 'n_estimators': 100, 'subsample': 0.8}\n",
            "\n",
            "Akurasi validasi terbaik: 0.8853\n",
            "\n",
            "Akurasi test set: 0.8565\n"
          ]
        }
      ]
    },
    {
      "cell_type": "code",
      "source": [
        "# Simpan model\n",
        "joblib.dump(best_model, 'model_dropout_xgboost.pkl')\n",
        "\n",
        "# Simpan scaler dan label encoder\n",
        "joblib.dump(scaler, 'scaler.pkl')\n",
        "joblib.dump(feature_encoders, 'label_encoders.pkl')\n",
        "print(\"\\nModel, Scaler, dan Label Encoders berhasil disimpan!\")"
      ],
      "metadata": {
        "colab": {
          "base_uri": "https://localhost:8080/"
        },
        "id": "Zcawvj5HCuGa",
        "outputId": "5237e658-923a-4d7e-9311-413ab93d4945"
      },
      "execution_count": 17,
      "outputs": [
        {
          "output_type": "stream",
          "name": "stdout",
          "text": [
            "\n",
            "Model, Scaler, dan Label Encoders berhasil disimpan!\n"
          ]
        }
      ]
    },
    {
      "cell_type": "markdown",
      "source": [
        "Kode ini menyimpan model machine learning yang sudah dilatih dan tool pra-pemrosesan data (scaler dan encoder) ke dalam file menggunakan joblib. Ini memungkinkan Anda memuat dan menggunakan kembali model serta transformasi data tanpa perlu mengulang proses pelatihan atau preprocessing."
      ],
      "metadata": {
        "id": "n8oHQsSIMqng"
      }
    },
    {
      "cell_type": "markdown",
      "metadata": {
        "id": "PloyWlK8U9ge"
      },
      "source": [
        "## Evaluation"
      ]
    },
    {
      "cell_type": "code",
      "execution_count": 18,
      "metadata": {
        "colab": {
          "base_uri": "https://localhost:8080/"
        },
        "id": "hc605BTWU9ge",
        "outputId": "2c43c51c-37d5-4b14-af16-cc897246d8ce"
      },
      "outputs": [
        {
          "output_type": "stream",
          "name": "stdout",
          "text": [
            "\n",
            "Classification Report:\n",
            "              precision    recall  f1-score   support\n",
            "\n",
            "           0       0.86      0.92      0.89       569\n",
            "           1       0.84      0.74      0.79       316\n",
            "\n",
            "    accuracy                           0.86       885\n",
            "   macro avg       0.85      0.83      0.84       885\n",
            "weighted avg       0.86      0.86      0.85       885\n",
            "\n",
            "\n",
            "Confusion Matrix:\n",
            "[[525  44]\n",
            " [ 83 233]]\n",
            "\n",
            "Akurasi Model setelah tuning: 0.8564971751412429\n"
          ]
        }
      ],
      "source": [
        "# Predict\n",
        "y_pred = best_model.predict(X_test)\n",
        "\n",
        "# Evaluasi\n",
        "print(\"\\nClassification Report:\")\n",
        "print(classification_report(y_test, y_pred))\n",
        "\n",
        "print(\"\\nConfusion Matrix:\")\n",
        "print(confusion_matrix(y_test, y_pred))\n",
        "\n",
        "accuracy = accuracy_score(y_test, y_pred)\n",
        "print(f\"\\nAkurasi Model setelah tuning: {accuracy}\")\n"
      ]
    },
    {
      "cell_type": "markdown",
      "source": [
        "### Analisis Kinerja Model Klasifikasi\n",
        "\n",
        "#### 1. Laporan Klasifikasi (Classification Report)\n",
        "| Metric       | Kelas 0 (Tidak Dropout) | Kelas 1 (Dropout) |\n",
        "|--------------|-------------------------|-------------------|\n",
        "| Precision    | 0.86                    | 0.84              |\n",
        "| Recall       | 0.92                    | 0.74              |\n",
        "| F1-Score     | 0.89                    | 0.79              |\n",
        "\n",
        "**Akurasi Global**: 85.65% (0.8565)\n",
        "\n",
        "#### 2. Matriks Kebingungan (Confusion Matrix)\n",
        "|                       | Prediksi Tidak Dropout | Prediksi Dropout |\n",
        "|-----------------------|------------------------|------------------|\n",
        "| **Aktual Tidak Dropout** | 525 (TN)               | 44 (FP)          |\n",
        "| **Aktual Dropout**       | 83 (FN)                | 233 (TP)         |\n",
        "\n",
        "#### 3. Interpretasi Kinerja\n",
        "- **Kelebihan Model**:\n",
        "  - Akurasi keseluruhan tinggi (85.65%)\n",
        "  - Performa kuat pada Kelas 0 (Recall 92%, F1-Score 0.89)\n",
        "  - Presisi konsisten di kedua kelas (0.84+)\n",
        "\n",
        "- **Area Perbaikan**:\n",
        "  - **Recall Kelas 1** (74%) menunjukkan 26% kasus dropout tidak terdeteksi\n",
        "  - **False Negatives** relatif tinggi (83 kasus) berpotensi menyebabkan intervensi yang terlewat\n",
        "  - Ketimpangan performa antar kelas (gap Recall 18%)\n",
        "\n",
        "**Rekomendasi**:\n",
        "1. Eksperimen dengan teknik _class weighting_ atau _resampling_\n",
        "2. Evaluasi threshold klasifikasi untuk optimasi recall Kelas 1\n",
        "3. Penambahan fitur yang lebih diskriminatif untuk kasus dropout"
      ],
      "metadata": {
        "id": "7fwqBRw-NrP-"
      }
    },
    {
      "cell_type": "code",
      "source": [
        "# Ekspor dataset asli dengan probabilitas prediksi\n",
        "y_pred_proba = best_model.predict_proba(X_test)\n",
        "y_pred = best_model.predict(X_test)\n",
        "\n",
        "# Membuat dataframe dengan hasil\n",
        "import pandas as pd\n",
        "import numpy as np\n",
        "\n",
        "# Mendapatkan indeks asli dari data uji\n",
        "original_indices = np.arange(len(X_scaled))[len(X_train):len(X_train)+len(X_test)]\n",
        "\n",
        "# Mendapatkan data asli (sebelum penskalaan) untuk indeks tersebut\n",
        "test_data_original = data.iloc[original_indices].reset_index(drop=True)\n",
        "\n",
        "# Menambahkan hasil prediksi\n",
        "results_df = test_data_original.copy()\n",
        "results_df['predicted_dropout'] = y_pred\n",
        "results_df['dropout_probability'] = y_pred_proba[:, 1]\n",
        "results_df['prediction_correct'] = (results_df['predicted_dropout'] == results_df['is_dropout']).astype(int)\n",
        "\n",
        "# Mendapatkan kepentingan fitur\n",
        "feature_importance = pd.DataFrame({\n",
        "    'Feature': X.columns,\n",
        "    'Importance': best_model.feature_importances_\n",
        "}).sort_values('Importance', ascending=False)\n",
        "\n",
        "# Ekspor ke CSV untuk Tableau\n",
        "results_df.to_csv('dropout_prediction_results.csv', index=False)\n",
        "feature_importance.to_csv('feature_importance.csv', index=False)\n",
        "\n",
        "print(\"Data berhasil diekspor untuk visualisasi Tableau\")"
      ],
      "metadata": {
        "colab": {
          "base_uri": "https://localhost:8080/"
        },
        "id": "bgyK3Mc070Hh",
        "outputId": "9cc4ee3b-536f-4d21-c514-c0f78875f5fc"
      },
      "execution_count": 20,
      "outputs": [
        {
          "output_type": "stream",
          "name": "stdout",
          "text": [
            "Data berhasil diekspor untuk visualisasi Tableau\n"
          ]
        }
      ]
    },
    {
      "cell_type": "code",
      "source": [],
      "metadata": {
        "id": "uXNYyyQoEhdz"
      },
      "execution_count": null,
      "outputs": []
    }
  ],
  "metadata": {
    "language_info": {
      "name": "python"
    },
    "orig_nbformat": 4,
    "colab": {
      "provenance": [],
      "toc_visible": true
    },
    "kernelspec": {
      "name": "python3",
      "display_name": "Python 3"
    }
  },
  "nbformat": 4,
  "nbformat_minor": 0
}