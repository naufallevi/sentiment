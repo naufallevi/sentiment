{
  "cells": [
    {
      "cell_type": "markdown",
      "metadata": {
        "id": "0QxVtE7CtvWt"
      },
      "source": [
        "# Proyek Akhir: Menyelesaikan Permasalahan Perusahaan Edutech"
      ]
    },
    {
      "cell_type": "markdown",
      "metadata": {
        "id": "exDfsVditvWw"
      },
      "source": [
        "- Nama:\n",
        "- Email:\n",
        "- Id Dicoding:"
      ]
    },
    {
      "cell_type": "markdown",
      "metadata": {
        "id": "-VsgSGpmtvWx"
      },
      "source": [
        "## Persiapan"
      ]
    },
    {
      "cell_type": "markdown",
      "metadata": {
        "id": "t6VlTzlrtvWx"
      },
      "source": [
        "### Menyiapkan library yang dibutuhkan"
      ]
    },
    {
      "cell_type": "code",
      "execution_count": null,
      "metadata": {
        "id": "uWDC6KlVtvWy"
      },
      "outputs": [],
      "source": []
    },
    {
      "cell_type": "markdown",
      "metadata": {
        "id": "8pdiOrPttvWy"
      },
      "source": [
        "### Menyiapkan data yang akan diguankan"
      ]
    },
    {
      "cell_type": "markdown",
      "metadata": {
        "id": "iXae3P_btvWy"
      },
      "source": [
        "## Data Understanding"
      ]
    },
    {
      "cell_type": "code",
      "execution_count": null,
      "metadata": {
        "id": "VYPZUP-ctvWz"
      },
      "outputs": [],
      "source": []
    },
    {
      "cell_type": "markdown",
      "metadata": {
        "id": "zIRoLOWltvWz"
      },
      "source": [
        "## Data Preparation / Preprocessing"
      ]
    },
    {
      "cell_type": "code",
      "execution_count": null,
      "metadata": {
        "id": "pPWX0syltvW0"
      },
      "outputs": [],
      "source": []
    },
    {
      "cell_type": "markdown",
      "metadata": {
        "id": "-v8OaksdtvW0"
      },
      "source": [
        "## Modeling"
      ]
    },
    {
      "cell_type": "code",
      "execution_count": null,
      "metadata": {
        "id": "ZDwHOAE9tvW0"
      },
      "outputs": [],
      "source": []
    },
    {
      "cell_type": "markdown",
      "metadata": {
        "id": "2OuGG4FftvW0"
      },
      "source": [
        "## Evaluation"
      ]
    },
    {
      "cell_type": "code",
      "execution_count": null,
      "metadata": {
        "id": "viVRD9zVtvW1"
      },
      "outputs": [],
      "source": []
    }
  ],
  "metadata": {
    "language_info": {
      "name": "python"
    },
    "orig_nbformat": 4,
    "colab": {
      "provenance": []
    },
    "kernelspec": {
      "name": "python3",
      "display_name": "Python 3"
    }
  },
  "nbformat": 4,
  "nbformat_minor": 0
}
